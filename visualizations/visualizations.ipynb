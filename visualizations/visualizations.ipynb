{
 "cells": [
  {
   "cell_type": "code",
   "execution_count": 2,
   "metadata": {},
   "outputs": [],
   "source": [
    "import csv\n",
    "import matplotlib.pyplot as plt\n",
    "from operator import itemgetter, attrgetter\n",
    "import pandas as pd\n",
    "import seaborn as sn\n",
    "import math\n",
    "import scipy.spatial as spatial\n",
    "import scipy.stats as stats\n",
    "import numpy as np\n",
    "import mpl_scatter_density # adds projection='scatter_density'\n",
    "from matplotlib.colors import LinearSegmentedColormap\n",
    "import functools\n",
    "from mpl_toolkits.axes_grid1 import make_axes_locatable"
   ]
  },
  {
   "cell_type": "code",
   "execution_count": 3,
   "metadata": {},
   "outputs": [
    {
     "name": "stdout",
     "output_type": "stream",
     "text": [
      "Chosen Path: ../sasha-tacas-scripts/tacasRealModels_2/\n"
     ]
    }
   ],
   "source": [
    "#Constants\n",
    "INTERESTING_PATHS = [\n",
    "    '../sashas-scripts/manyAct_steps/',\n",
    "    '../sasha-tacas-scripts/tacasHandcraftedModels/',\n",
    "    '../sasha-tacas-scripts/tacasRealModels/',\n",
    "    '../sasha-tacas-scripts/tacasRealModels_2/',\n",
    "    '../sasha-tacas-scripts/tacasRealModels_3/',\n",
    "    '../sasha-tacas-scripts/tacasRandomConnected/',\n",
    "    '../sasha-tacas-scripts/oviGood/',\n",
    "    '../sasha-tacas-scripts/oviBad/',\n",
    "]\n",
    "PATH_TO_CSV_FOLDER = INTERESTING_PATHS[3]\n",
    "print(\"Chosen Path: \"+PATH_TO_CSV_FOLDER)"
   ]
  },
  {
   "cell_type": "markdown",
   "metadata": {},
   "source": [
    "## Load Data"
   ]
  },
  {
   "cell_type": "code",
   "execution_count": 4,
   "metadata": {},
   "outputs": [
    {
     "ename": "NameError",
     "evalue": "name 'unknown_threshold' is not defined",
     "output_type": "error",
     "traceback": [
      "\u001b[0;31m---------------------------------------------------------------------------\u001b[0m",
      "\u001b[0;31mNameError\u001b[0m                                 Traceback (most recent call last)",
      "\u001b[0;32m<ipython-input-4-e2413d2966d4>\u001b[0m in \u001b[0;36m<module>\u001b[0;34m\u001b[0m\n\u001b[1;32m      7\u001b[0m \u001b[0;34m\u001b[0m\u001b[0m\n\u001b[1;32m      8\u001b[0m \u001b[0mfilter_dict\u001b[0m \u001b[0;34m=\u001b[0m \u001b[0mdict\u001b[0m\u001b[0;34m(\u001b[0m\u001b[0;34m)\u001b[0m\u001b[0;34m\u001b[0m\u001b[0;34m\u001b[0m\u001b[0m\n\u001b[0;32m----> 9\u001b[0;31m \u001b[0mfilter_dict\u001b[0m\u001b[0;34m[\u001b[0m\u001b[0;34m\"Unknown<=%d\"\u001b[0m \u001b[0;34m%\u001b[0m \u001b[0munknown_threshold\u001b[0m\u001b[0;34m]\u001b[0m \u001b[0;34m=\u001b[0m \u001b[0;36m0\u001b[0m \u001b[0;31m#Not an interesting model\u001b[0m\u001b[0;34m\u001b[0m\u001b[0;34m\u001b[0m\u001b[0m\n\u001b[0m\u001b[1;32m     10\u001b[0m \u001b[0mfilter_dict\u001b[0m\u001b[0;34m[\u001b[0m\u001b[0;34m\"Timeout\"\u001b[0m\u001b[0;34m]\u001b[0m \u001b[0;34m=\u001b[0m \u001b[0;36m0\u001b[0m\u001b[0;34m\u001b[0m\u001b[0;34m\u001b[0m\u001b[0m\n\u001b[1;32m     11\u001b[0m \u001b[0mfilter_dict\u001b[0m\u001b[0;34m[\u001b[0m\u001b[0;34m\"SpecialFilters\"\u001b[0m\u001b[0;34m]\u001b[0m \u001b[0;34m=\u001b[0m \u001b[0;36m0\u001b[0m\u001b[0;34m\u001b[0m\u001b[0;34m\u001b[0m\u001b[0m\n",
      "\u001b[0;31mNameError\u001b[0m: name 'unknown_threshold' is not defined"
     ]
    }
   ],
   "source": [
    "# ================ ONLY RUN THIS IF YOU WANT TO RESET YOUR DATA SET\n",
    "\n",
    "table_properties = []\n",
    "table_rows = []\n",
    "\n",
    "total_rows = 0\n",
    "\n",
    "filter_dict = dict()\n",
    "filter_dict[\"Unknown<=%d\" % unknown_threshold] = 0 #Not an interesting model\n",
    "filter_dict[\"Timeout\"] = 0\n",
    "filter_dict[\"SpecialFilters\"] = 0\n",
    "\n",
    "\n",
    "# Values, iters and other csv\n",
    "table_times = []\n",
    "excluded_times = []\n",
    "\n",
    "conf_filter_dict = dict()\n",
    "conf_filter_dict[\"NooneHasSolved\"] = 0\n",
    "\n",
    "\n",
    "not_solved = dict()\n",
    "\n",
    "table_iters = []\n",
    "excluded_iters = []\n",
    "\n",
    "\n",
    "table_values = []\n",
    "excluded_values = []\n",
    "\n",
    "table_ovi_iters = []\n",
    "excluded_ovi_iters = []"
   ]
  },
  {
   "cell_type": "code",
   "execution_count": 5,
   "metadata": {},
   "outputs": [],
   "source": [
    "property_meta_keys = [\"Model\"]\n",
    "\n",
    "property_keys = [\n",
    "    \"NumStates\",\n",
    "    \"NumActions\",\n",
    "    \"NumTargets\",\n",
    "    \"NumSinks\",\n",
    "    \"NumUnknown\",\n",
    "    \"NumMaxActions\",\n",
    "    \"NumMaxTransitions\",\n",
    "    \"SmallestTransProb\",\n",
    "    \"NumProbActions\",\n",
    "    \"NumMECs\",\n",
    "    \"BiggestMEC\",\n",
    "    \"SmallestMEC\",\n",
    "    \"AvgMEC\",\n",
    "    \"MedianMEC\",\n",
    "    \"NumSCCs\",\n",
    "    \"BiggestSCC\",\n",
    "    \"AvgSCC\",\n",
    "    \"NearestTarget\",\n",
    "    \"FurthestTarget\",\n",
    "    \"AvgNumActionsPerState\",\n",
    "    \"AvgNumTransPerState\",\n",
    "    \"AvgNumTransPerAction\",\n",
    "    \"NumMaxStates\",\n",
    "    \"NumMinStates\",\n",
    "    \"NumBackwardsTransitions\"\n",
    "]\n",
    "\n",
    "analysis_keys = property_meta_keys + property_keys"
   ]
  },
  {
   "cell_type": "code",
   "execution_count": 6,
   "metadata": {},
   "outputs": [
    {
     "data": {
      "text/plain": [
       "['Model', '#States', 'VI', 'BVI', 'OVI', 'SVI', 'WP', 'TOP_BVI', 'T_SI_SI']"
      ]
     },
     "execution_count": 6,
     "metadata": {},
     "output_type": "execute_result"
    }
   ],
   "source": [
    "metaKeys = [\"Model\", \"#States\"]\n",
    "\n",
    "tacas_keys = [\n",
    "    \"BVI\",\n",
    "    #\"D_BVI\",\n",
    "    #\"D_SVI\",\n",
    "    \"DG_BVI\",\n",
    "    \"DG_SVI\",\n",
    "    \"G_BVI\",\n",
    "    \"G_OVI\",\n",
    "    \"G_SVI\",\n",
    "    \"OPT_OVI\",\n",
    "    \"OVI\",\n",
    "    \"SVI\",\n",
    "    \"TOP_BVI\",\n",
    "    \"TOP_OVI\",\n",
    "    \"TOP_SVI\",\n",
    "    \"TOP_VI\",\n",
    "    \"T_BVI\",\n",
    "    \"T_OVI\",\n",
    "    #\"T_SVI\",\n",
    "    \"VI\",\n",
    "    #\"WP\",\n",
    "]\n",
    "\n",
    "si_keys = [\n",
    "    \"SI\",\n",
    "    \"SI_SI\",\n",
    "    \"LP_SI\",\n",
    "    \"T_SI_SI\",\n",
    "    \"T_LP_SI\"\n",
    "]\n",
    "\n",
    "reduced_config_keys = [\n",
    "    \"OVI\",\n",
    "    \"BVI\",\n",
    "    \"SVI\"\n",
    "]\n",
    "\n",
    "big_7 = [\n",
    "    \"VI\",\n",
    "    \"BVI\",\n",
    "    \"OVI\",\n",
    "    \"SVI\",\n",
    "    \"WP\",\n",
    "    \"TOP_BVI\",\n",
    "    \"T_SI_SI\",\n",
    "    #\"T_SVI\",\n",
    "    #\"T_OVI\",\n",
    "    #\"T_BVI\",\n",
    "    #\"SI_SI\",\n",
    "    #\"T_LP_SI\"\n",
    "]\n",
    "\n",
    "config_keys = tacas_keys + si_keys\n",
    "#config_keys = reduced_config_keys\n",
    "config_keys = big_7\n",
    "\n",
    "relevantKeys = metaKeys + config_keys\n",
    "relevantKeys"
   ]
  },
  {
   "cell_type": "code",
   "execution_count": 7,
   "metadata": {},
   "outputs": [
    {
     "ename": "KeyError",
     "evalue": "'Unknown<=5'",
     "output_type": "error",
     "traceback": [
      "\u001b[0;31m---------------------------------------------------------------------------\u001b[0m",
      "\u001b[0;31mKeyError\u001b[0m                                  Traceback (most recent call last)",
      "\u001b[0;32m<ipython-input-7-0ab68cf6a01c>\u001b[0m in \u001b[0;36m<module>\u001b[0;34m\u001b[0m\n\u001b[1;32m     73\u001b[0m \u001b[0;34m\u001b[0m\u001b[0m\n\u001b[1;32m     74\u001b[0m             \u001b[0;31m#Filtering\u001b[0m\u001b[0;34m\u001b[0m\u001b[0;34m\u001b[0m\u001b[0;34m\u001b[0m\u001b[0m\n\u001b[0;32m---> 75\u001b[0;31m             \u001b[0;32mif\u001b[0m \u001b[0;34m(\u001b[0m\u001b[0mshould_remove_model\u001b[0m\u001b[0;34m(\u001b[0m\u001b[0mrow_to_include\u001b[0m\u001b[0;34m,\u001b[0m \u001b[0manalysis_keys\u001b[0m\u001b[0;34m,\u001b[0m \u001b[0mfilter_dict\u001b[0m\u001b[0;34m)\u001b[0m\u001b[0;34m)\u001b[0m\u001b[0;34m:\u001b[0m\u001b[0;34m\u001b[0m\u001b[0;34m\u001b[0m\u001b[0m\n\u001b[0m\u001b[1;32m     76\u001b[0m                 \u001b[0;32mcontinue\u001b[0m\u001b[0;34m\u001b[0m\u001b[0;34m\u001b[0m\u001b[0m\n\u001b[1;32m     77\u001b[0m \u001b[0;34m\u001b[0m\u001b[0m\n",
      "\u001b[0;32m<ipython-input-7-0ab68cf6a01c>\u001b[0m in \u001b[0;36mshould_remove_model\u001b[0;34m(row_to_include, analysis_keys, filter_dict)\u001b[0m\n\u001b[1;32m     18\u001b[0m         \u001b[0;32mreturn\u001b[0m \u001b[0;32mTrue\u001b[0m\u001b[0;34m\u001b[0m\u001b[0;34m\u001b[0m\u001b[0m\n\u001b[1;32m     19\u001b[0m     \u001b[0;32melif\u001b[0m \u001b[0;34m(\u001b[0m\u001b[0mGENERAL_FILTERS\u001b[0m \u001b[0;32mand\u001b[0m \u001b[0mis_property_defined\u001b[0m\u001b[0;34m(\u001b[0m\u001b[0;34m\"NumUnknown\"\u001b[0m\u001b[0;34m,\u001b[0m \u001b[0manalysis_keys\u001b[0m\u001b[0;34m,\u001b[0m \u001b[0mrow\u001b[0m\u001b[0;34m)\u001b[0m \u001b[0;32mand\u001b[0m \u001b[0mint\u001b[0m\u001b[0;34m(\u001b[0m\u001b[0mrow_to_include\u001b[0m\u001b[0;34m[\u001b[0m\u001b[0;34m\"NumUnknown\"\u001b[0m\u001b[0;34m]\u001b[0m\u001b[0;34m)\u001b[0m \u001b[0;34m<=\u001b[0m \u001b[0munknown_threshold\u001b[0m\u001b[0;34m)\u001b[0m\u001b[0;34m:\u001b[0m\u001b[0;34m\u001b[0m\u001b[0;34m\u001b[0m\u001b[0m\n\u001b[0;32m---> 20\u001b[0;31m         \u001b[0mfilter_dict\u001b[0m\u001b[0;34m[\u001b[0m\u001b[0;34m\"Unknown<=%d\"\u001b[0m \u001b[0;34m%\u001b[0m \u001b[0munknown_threshold\u001b[0m\u001b[0;34m]\u001b[0m \u001b[0;34m+=\u001b[0m\u001b[0;36m1\u001b[0m\u001b[0;34m\u001b[0m\u001b[0;34m\u001b[0m\u001b[0m\n\u001b[0m\u001b[1;32m     21\u001b[0m         \u001b[0;31m#print(\"Model %s has less than %d unknown states --> too easy \" % (row[\"Model\"], unknown_threshold))\u001b[0m\u001b[0;34m\u001b[0m\u001b[0;34m\u001b[0m\u001b[0;34m\u001b[0m\u001b[0m\n\u001b[1;32m     22\u001b[0m         \u001b[0;32mreturn\u001b[0m \u001b[0;32mTrue\u001b[0m\u001b[0;34m\u001b[0m\u001b[0;34m\u001b[0m\u001b[0m\n",
      "\u001b[0;31mKeyError\u001b[0m: 'Unknown<=5'"
     ]
    }
   ],
   "source": [
    "\n",
    "\n",
    "unknown_threshold = 5\n",
    "def is_float(entry):\n",
    "    try:\n",
    "        float_entry = float(entry)\n",
    "        return True\n",
    "    except ValueError:\n",
    "        return False\n",
    "    \n",
    "def is_property_defined(prop, keys, row):\n",
    "    return (prop in keys and\n",
    "            is_float(row[prop]))\n",
    "\n",
    "def should_remove_model(row_to_include, analysis_keys, filter_dict):\n",
    "    GENERAL_FILTERS = True\n",
    "    if (GENERAL_FILTERS and not is_property_defined(\"NumStates\", analysis_keys, row_to_include)):\n",
    "        filter_dict[\"Timeout\"] +=1\n",
    "        #print(\"Noone has solved Model %s\" % row[\"Model\"])\n",
    "        return True\n",
    "    elif (GENERAL_FILTERS and is_property_defined(\"NumUnknown\", analysis_keys, row) and int(row_to_include[\"NumUnknown\"]) <= unknown_threshold):\n",
    "        filter_dict[\"Unknown<=%d\" % unknown_threshold] +=1\n",
    "        #print(\"Model %s has less than %d unknown states --> too easy \" % (row[\"Model\"], unknown_threshold))\n",
    "        return True\n",
    "    \n",
    "    #Special Filtering Criteria for different test-suites\n",
    "    SPECIAL_FILTERS = True\n",
    "    if (SPECIAL_FILTERS):\n",
    "        filter_conditions = [\n",
    "            \"hm_25\" in row_to_include[\"Model\"],\n",
    "            #\"10000\" in row_to_include[\"Model\"],\n",
    "            #\"20000\" in row_to_include[\"Model\"],\n",
    "            #\"50000\" in row_to_include[\"Model\"],\n",
    "            #\"5000\" in row_to_include[\"Model\"],\n",
    "        \n",
    "            row_to_include[\"NumMaxActions\"] == 0,\n",
    "            \n",
    "            #is_float(row_to_include[\"NearestTarget\"]) and int(row_to_include[\"NearestTarget\"]) > 5,\n",
    "            #is_float(row_to_include[\"NumMaxTransitions\"]) and int(row_to_include[\"NumMaxTransitions\"]) < 10,\n",
    "            #is_float(row_to_include[\"NumMECs\"]) and int(row_to_include[\"NumMECs\"]) != 0,\n",
    "            #int(row_to_include[\"NumStates\"]) < 1000,\n",
    "            #not \"MinAct_10\" in row_to_include[\"Model\"],\n",
    "            #\"MinTransProb_0.0001\" not in row_to_include[\"Model\"],\n",
    "            #\"Type-tree\" in row_to_include[\"Model\"]\n",
    "        ]\n",
    "        \n",
    "        if (True in filter_conditions):\n",
    "            filter_dict[\"SpecialFilters\"]+=1\n",
    "            return True\n",
    "        \n",
    "        \n",
    "    return False\n",
    "\n",
    "def normalization(row, analysis_keys):\n",
    "    if (is_property_defined(\"NumStates\", analysis_keys, row)):\n",
    "        for value_to_normalize in [\n",
    "            \"NumTargets\",\n",
    "            \"NumSinks\",\n",
    "            \"NumUnknown\",\n",
    "        ]:\n",
    "            if (value_to_normalize in analysis_keys and float(row[\"NumStates\"] != 0)):\n",
    "                row[value_to_normalize] = float(row[value_to_normalize]) / float(row[\"NumStates\"]) \n",
    "\n",
    "with open(PATH_TO_CSV_FOLDER+'analysis.csv', newline='\\n') as propertiesFile:\n",
    "        reader = csv.DictReader(propertiesFile)\n",
    "        for row in reader:\n",
    "            total_rows += 1\n",
    "            row_to_include = {k:row[k] for k in analysis_keys if k in row}\n",
    "            \n",
    "            \n",
    "            \n",
    "            for key in analysis_keys:\n",
    "                if (not is_float(row_to_include[key]) and key != \"Model\"):\n",
    "                    row_to_include[key] = 0\n",
    "\n",
    "            #Filtering\n",
    "            if (should_remove_model(row_to_include, analysis_keys, filter_dict)):\n",
    "                continue\n",
    "\n",
    "            #Normalizations\n",
    "            normalization(row_to_include, analysis_keys)\n",
    "\n",
    "            table_properties.append(row_to_include)\n",
    "\n",
    "print(\"With filtering there are %d/%d models left to check from\" % (len(table_properties), total_rows))\n",
    "print(\"The rest was filtered because of following reasons: \")\n",
    "print(filter_dict)"
   ]
  },
  {
   "cell_type": "code",
   "execution_count": 8,
   "metadata": {},
   "outputs": [],
   "source": [
    "#print(*list(map(lambda x : (x[\"Model\"]), table_properties)), sep= \"\\n\")\n",
    "#print(table_properties)"
   ]
  },
  {
   "cell_type": "markdown",
   "metadata": {},
   "source": [
    "#### Check for Errors"
   ]
  },
  {
   "cell_type": "code",
   "execution_count": 9,
   "metadata": {},
   "outputs": [
    {
     "ename": "NameError",
     "evalue": "name 'os' is not defined",
     "output_type": "error",
     "traceback": [
      "\u001b[0;31m---------------------------------------------------------------------------\u001b[0m",
      "\u001b[0;31mNameError\u001b[0m                                 Traceback (most recent call last)",
      "\u001b[0;32m<ipython-input-9-b67126bf40da>\u001b[0m in \u001b[0;36m<module>\u001b[0;34m\u001b[0m\n\u001b[1;32m      3\u001b[0m     \u001b[0;32mfor\u001b[0m \u001b[0mconf\u001b[0m \u001b[0;32min\u001b[0m \u001b[0mconfig_keys\u001b[0m\u001b[0;34m:\u001b[0m\u001b[0;34m\u001b[0m\u001b[0;34m\u001b[0m\u001b[0m\n\u001b[1;32m      4\u001b[0m         \u001b[0mconf_path\u001b[0m \u001b[0;34m=\u001b[0m \u001b[0mPATH_TO_CSV_FOLDER\u001b[0m\u001b[0;34m+\u001b[0m\u001b[0mconf\u001b[0m\u001b[0;34m+\u001b[0m\u001b[0;34m\"/\"\u001b[0m\u001b[0;34m\u001b[0m\u001b[0;34m\u001b[0m\u001b[0m\n\u001b[0;32m----> 5\u001b[0;31m         \u001b[0;32mfor\u001b[0m \u001b[0mmodel_file_name\u001b[0m \u001b[0;32min\u001b[0m \u001b[0mos\u001b[0m\u001b[0;34m.\u001b[0m\u001b[0mlistdir\u001b[0m\u001b[0;34m(\u001b[0m\u001b[0mconf_path\u001b[0m\u001b[0;34m)\u001b[0m\u001b[0;34m:\u001b[0m\u001b[0;34m\u001b[0m\u001b[0;34m\u001b[0m\u001b[0m\n\u001b[0m\u001b[1;32m      6\u001b[0m             \u001b[0;32mwith\u001b[0m \u001b[0mopen\u001b[0m\u001b[0;34m(\u001b[0m\u001b[0mconf_path\u001b[0m\u001b[0;34m+\u001b[0m\u001b[0mmodel_file_name\u001b[0m\u001b[0;34m,\u001b[0m \u001b[0mnewline\u001b[0m\u001b[0;34m=\u001b[0m\u001b[0;34m'\\n'\u001b[0m\u001b[0;34m)\u001b[0m \u001b[0;32mas\u001b[0m \u001b[0mconf_model_run\u001b[0m\u001b[0;34m:\u001b[0m\u001b[0;34m\u001b[0m\u001b[0;34m\u001b[0m\u001b[0m\n\u001b[1;32m      7\u001b[0m                 \u001b[0;32mfor\u001b[0m \u001b[0mline\u001b[0m \u001b[0;32min\u001b[0m \u001b[0mconf_model_run\u001b[0m\u001b[0;34m:\u001b[0m\u001b[0;34m\u001b[0m\u001b[0;34m\u001b[0m\u001b[0m\n",
      "\u001b[0;31mNameError\u001b[0m: name 'os' is not defined"
     ]
    }
   ],
   "source": [
    "SEARCH_ERRORS = True\n",
    "if (SEARCH_ERRORS):\n",
    "    for conf in config_keys:\n",
    "        conf_path = PATH_TO_CSV_FOLDER+conf+\"/\"\n",
    "        for model_file_name in os.listdir(conf_path):\n",
    "            with open(conf_path+model_file_name, newline='\\n') as conf_model_run:\n",
    "                for line in conf_model_run:\n",
    "                    if (\"Exception\" in line or \"Error\" in line):\n",
    "                        print(\"IN CONF %s AND FILE \\n%s: \" % (conf, model_file_name))\n",
    "                        print(line)"
   ]
  },
  {
   "cell_type": "markdown",
   "metadata": {},
   "source": [
    "#### Load Config Data"
   ]
  },
  {
   "cell_type": "code",
   "execution_count": 10,
   "metadata": {},
   "outputs": [],
   "source": [
    "#Filtering Options\n",
    "\n",
    "def should_remove_model_conf(at_least_one_has_solved, at_least_one_has_not_solved):\n",
    "    return False\n",
    "    #return at_least_one_has_not_solved\n",
    "    #return not at_least_one_has_solved"
   ]
  },
  {
   "cell_type": "code",
   "execution_count": 11,
   "metadata": {},
   "outputs": [],
   "source": [
    "def modelIncludedInProperties(model_name, table_properties):\n",
    "    for row in table_properties:\n",
    "        if row[\"Model\"] == model_name:\n",
    "            return True\n",
    "    return False"
   ]
  },
  {
   "cell_type": "code",
   "execution_count": 12,
   "metadata": {
    "scrolled": true
   },
   "outputs": [
    {
     "name": "stdout",
     "output_type": "stream",
     "text": [
      "PATH:  ../sasha-tacas-scripts/tacasRealModels_2/times.csv\n"
     ]
    },
    {
     "ename": "NameError",
     "evalue": "name 'not_solved' is not defined",
     "output_type": "error",
     "traceback": [
      "\u001b[0;31m---------------------------------------------------------------------------\u001b[0m",
      "\u001b[0;31mNameError\u001b[0m                                 Traceback (most recent call last)",
      "\u001b[0;32m<ipython-input-12-712addde7913>\u001b[0m in \u001b[0;36m<module>\u001b[0;34m\u001b[0m\n\u001b[1;32m      2\u001b[0m \u001b[0;34m\u001b[0m\u001b[0m\n\u001b[1;32m      3\u001b[0m \u001b[0;32mfor\u001b[0m \u001b[0mconf\u001b[0m \u001b[0;32min\u001b[0m \u001b[0mconfig_keys\u001b[0m\u001b[0;34m:\u001b[0m\u001b[0;34m\u001b[0m\u001b[0;34m\u001b[0m\u001b[0m\n\u001b[0;32m----> 4\u001b[0;31m     \u001b[0mnot_solved\u001b[0m\u001b[0;34m[\u001b[0m\u001b[0mconf\u001b[0m\u001b[0;34m]\u001b[0m \u001b[0;34m=\u001b[0m \u001b[0;36m0\u001b[0m\u001b[0;34m\u001b[0m\u001b[0;34m\u001b[0m\u001b[0m\n\u001b[0m\u001b[1;32m      5\u001b[0m \u001b[0;34m\u001b[0m\u001b[0m\n\u001b[1;32m      6\u001b[0m \u001b[0;32mwith\u001b[0m \u001b[0mopen\u001b[0m\u001b[0;34m(\u001b[0m\u001b[0mPATH_TO_CSV_FOLDER\u001b[0m\u001b[0;34m+\u001b[0m\u001b[0;34m'times.csv'\u001b[0m\u001b[0;34m,\u001b[0m \u001b[0mnewline\u001b[0m\u001b[0;34m=\u001b[0m\u001b[0;34m'\\n'\u001b[0m\u001b[0;34m)\u001b[0m \u001b[0;32mas\u001b[0m \u001b[0mtimesFile\u001b[0m\u001b[0;34m:\u001b[0m\u001b[0;34m\u001b[0m\u001b[0;34m\u001b[0m\u001b[0m\n",
      "\u001b[0;31mNameError\u001b[0m: name 'not_solved' is not defined"
     ]
    }
   ],
   "source": [
    "print(\"PATH: \",PATH_TO_CSV_FOLDER+'times.csv')\n",
    "\n",
    "for conf in config_keys:\n",
    "    not_solved[conf] = 0\n",
    "    \n",
    "with open(PATH_TO_CSV_FOLDER+'times.csv', newline='\\n') as timesFile:\n",
    "    reader = csv.DictReader(timesFile)\n",
    "    for row in reader:\n",
    "        parsed_row = {k:row[k] for k in relevantKeys if k in row}\n",
    "\n",
    "        print(row)\n",
    "        # Filtering\n",
    "        if not modelIncludedInProperties(parsed_row[\"Model\"], table_properties):\n",
    "            continue\n",
    "        if parsed_row[\"#States\"] == '' or parsed_row[\"#States\"] == None:\n",
    "            parsed_row[\"#States\"] = 100020\n",
    "            pass\n",
    "        at_least_one_has_solved = False\n",
    "        at_least_one_has_not_solved = False\n",
    "        for config_key in config_keys:\n",
    "            if (is_float(parsed_row[config_key])):\n",
    "                at_least_one_has_solved = True\n",
    "                #print(parsed_row)\n",
    "            else:\n",
    "                print(\"%s couldn't solve %s\" % (config_key, parsed_row[\"Model\"]))\n",
    "                not_solved[config_key]+=1\n",
    "                at_least_one_has_not_solved = True\n",
    "\n",
    "\n",
    "        if (should_remove_model_conf(at_least_one_has_solved, at_least_one_has_not_solved)):\n",
    "            conf_filter_dict[\"NooneHasSolved\"]+=1\n",
    "            excluded_times.append(parsed_row)\n",
    "        else:\n",
    "            table_times.append(parsed_row)\n",
    "print(\"After filtering, %d models are left in total\" % len(table_times))\n",
    "print(\"The not included confs are due to the following reasons: \")\n",
    "print(conf_filter_dict)\n",
    "#print(\"TOP_VI solved %i of %i\" % (len(table_properties) - not_solved[\"TOP_VI\"],len(table_properties)))"
   ]
  },
  {
   "cell_type": "code",
   "execution_count": 13,
   "metadata": {},
   "outputs": [
    {
     "ename": "NameError",
     "evalue": "name 'table_iters' is not defined",
     "output_type": "error",
     "traceback": [
      "\u001b[0;31m---------------------------------------------------------------------------\u001b[0m",
      "\u001b[0;31mNameError\u001b[0m                                 Traceback (most recent call last)",
      "\u001b[0;32m<ipython-input-13-d11de7efa939>\u001b[0m in \u001b[0;36m<module>\u001b[0;34m\u001b[0m\n\u001b[1;32m     24\u001b[0m         \u001b[0;32melse\u001b[0m\u001b[0;34m:\u001b[0m\u001b[0;34m\u001b[0m\u001b[0;34m\u001b[0m\u001b[0m\n\u001b[1;32m     25\u001b[0m             \u001b[0mtable_iters\u001b[0m\u001b[0;34m.\u001b[0m\u001b[0mappend\u001b[0m\u001b[0;34m(\u001b[0m\u001b[0mparsed_row\u001b[0m\u001b[0;34m)\u001b[0m\u001b[0;34m\u001b[0m\u001b[0;34m\u001b[0m\u001b[0m\n\u001b[0;32m---> 26\u001b[0;31m \u001b[0mprint\u001b[0m\u001b[0;34m(\u001b[0m\u001b[0;34m\"After filtering, %d models are left in total\"\u001b[0m \u001b[0;34m%\u001b[0m \u001b[0mlen\u001b[0m\u001b[0;34m(\u001b[0m\u001b[0mtable_iters\u001b[0m\u001b[0;34m)\u001b[0m\u001b[0;34m)\u001b[0m\u001b[0;34m\u001b[0m\u001b[0;34m\u001b[0m\u001b[0m\n\u001b[0m\u001b[1;32m     27\u001b[0m \u001b[0mprint\u001b[0m\u001b[0;34m(\u001b[0m\u001b[0;34m\"The not included confs are due to the following reasons: \"\u001b[0m\u001b[0;34m)\u001b[0m\u001b[0;34m\u001b[0m\u001b[0;34m\u001b[0m\u001b[0m\n\u001b[1;32m     28\u001b[0m \u001b[0mprint\u001b[0m\u001b[0;34m(\u001b[0m\u001b[0mconf_filter_dict\u001b[0m\u001b[0;34m)\u001b[0m\u001b[0;34m\u001b[0m\u001b[0;34m\u001b[0m\u001b[0m\n",
      "\u001b[0;31mNameError\u001b[0m: name 'table_iters' is not defined"
     ]
    }
   ],
   "source": [
    "with open(PATH_TO_CSV_FOLDER+'iters.csv', newline='\\n') as iters:\n",
    "    reader = csv.DictReader(iters)\n",
    "    for row in reader:\n",
    "        parsed_row = {k:row[k] for k in relevantKeys if k in row}\n",
    "\n",
    "        # Filtering\n",
    "        if not modelIncludedInProperties(parsed_row[\"Model\"], table_properties):\n",
    "            continue\n",
    "        if not is_float(parsed_row[\"#States\"]):\n",
    "            parsed_row[\"#States\"] = 100020\n",
    "            pass\n",
    "        at_least_one_has_solved = False\n",
    "        at_least_one_has_not_solved = False\n",
    "        for config_key in config_keys:\n",
    "            if (parsed_row[config_key] != \"\" and parsed_row[config_key] != \" \"):\n",
    "                at_least_one_has_solved = True\n",
    "            else:\n",
    "                at_least_one_has_not_solved = True\n",
    "\n",
    "\n",
    "        if (should_remove_model_conf(at_least_one_has_solved, at_least_one_has_not_solved)):\n",
    "            conf_filter_dict[\"NooneHasSolved\"]+=1\n",
    "            excluded_iters.append(parsed_row)\n",
    "        else:\n",
    "            table_iters.append(parsed_row)\n",
    "print(\"After filtering, %d models are left in total\" % len(table_iters))\n",
    "print(\"The not included confs are due to the following reasons: \")\n",
    "print(conf_filter_dict)"
   ]
  },
  {
   "cell_type": "code",
   "execution_count": 14,
   "metadata": {},
   "outputs": [
    {
     "name": "stdout",
     "output_type": "stream",
     "text": [
      "PATH:  ../sasha-tacas-scripts/tacasRealModels_2/values.csv\n"
     ]
    }
   ],
   "source": [
    "print(\"PATH: \",PATH_TO_CSV_FOLDER+'values.csv')\n",
    "ref = \"OVI\"\n",
    "\n",
    "with open(PATH_TO_CSV_FOLDER+'values.csv', newline='\\n') as values:\n",
    "    reader = csv.DictReader(values)\n",
    "    for row in reader:\n",
    "        parsed_row = {k:row[k] for k in relevantKeys if k in row}\n",
    "\n",
    "        if (not is_float(parsed_row[ref])):\n",
    "            print(\"%s has no value in Model %s and so we cannot make a decision\" % (ref, parsed_row[\"Model\"]))\n",
    "        else:\n",
    "            r = float(parsed_row[ref])\n",
    "            for conf in config_keys:\n",
    "                if (conf != \"VI\"): \n",
    "                    continue\n",
    "                \n",
    "                if (is_float(parsed_row[conf])):\n",
    "                    v = float(parsed_row[conf])\n",
    "                    if (abs(r-v) > 1E-6):\n",
    "                        print(\"ERROR IN CONF %s IN MODEL %s, Reference Value: %f, Conf Value: %f\" % (conf, parsed_row[\"Model\"], r, v))\n",
    "                else:\n",
    "                    print(\"In Model %s Conf %s has not a float value '%s' \" % (parsed_row[\"Model\"], conf, parsed_row[conf]))\n"
   ]
  },
  {
   "cell_type": "code",
   "execution_count": 15,
   "metadata": {},
   "outputs": [
    {
     "ename": "NameError",
     "evalue": "name 'os' is not defined",
     "output_type": "error",
     "traceback": [
      "\u001b[0;31m---------------------------------------------------------------------------\u001b[0m",
      "\u001b[0;31mNameError\u001b[0m                                 Traceback (most recent call last)",
      "\u001b[0;32m<ipython-input-15-3e52c23726e1>\u001b[0m in \u001b[0;36m<module>\u001b[0;34m\u001b[0m\n\u001b[0;32m----> 1\u001b[0;31m \u001b[0mUSE_OVI_ITERS\u001b[0m \u001b[0;34m=\u001b[0m \u001b[0mos\u001b[0m\u001b[0;34m.\u001b[0m\u001b[0mpath\u001b[0m\u001b[0;34m.\u001b[0m\u001b[0mexists\u001b[0m\u001b[0;34m(\u001b[0m\u001b[0mPATH_TO_CSV_FOLDER\u001b[0m\u001b[0;34m+\u001b[0m\u001b[0;34m\"ovi_iters.csv\"\u001b[0m\u001b[0;34m)\u001b[0m\u001b[0;34m\u001b[0m\u001b[0;34m\u001b[0m\u001b[0m\n\u001b[0m\u001b[1;32m      2\u001b[0m \u001b[0movi_conf\u001b[0m \u001b[0;34m=\u001b[0m \u001b[0;34m\"OVI\"\u001b[0m\u001b[0;34m\u001b[0m\u001b[0;34m\u001b[0m\u001b[0m\n\u001b[1;32m      3\u001b[0m \u001b[0;32mif\u001b[0m \u001b[0;34m(\u001b[0m\u001b[0mUSE_OVI_ITERS\u001b[0m\u001b[0;34m)\u001b[0m\u001b[0;34m:\u001b[0m\u001b[0;34m\u001b[0m\u001b[0;34m\u001b[0m\u001b[0m\n\u001b[1;32m      4\u001b[0m     \u001b[0;32mwith\u001b[0m \u001b[0mopen\u001b[0m\u001b[0;34m(\u001b[0m\u001b[0mPATH_TO_CSV_FOLDER\u001b[0m\u001b[0;34m+\u001b[0m\u001b[0;34m\"ovi_iters.csv\"\u001b[0m\u001b[0;34m,\u001b[0m \u001b[0mnewline\u001b[0m\u001b[0;34m=\u001b[0m\u001b[0;34m\"\\n\"\u001b[0m\u001b[0;34m)\u001b[0m \u001b[0;32mas\u001b[0m \u001b[0moviItersFile\u001b[0m\u001b[0;34m:\u001b[0m\u001b[0;34m\u001b[0m\u001b[0;34m\u001b[0m\u001b[0m\n\u001b[1;32m      5\u001b[0m         \u001b[0mreader\u001b[0m \u001b[0;34m=\u001b[0m \u001b[0mcsv\u001b[0m\u001b[0;34m.\u001b[0m\u001b[0mDictReader\u001b[0m\u001b[0;34m(\u001b[0m\u001b[0moviItersFile\u001b[0m\u001b[0;34m)\u001b[0m\u001b[0;34m\u001b[0m\u001b[0;34m\u001b[0m\u001b[0m\n",
      "\u001b[0;31mNameError\u001b[0m: name 'os' is not defined"
     ]
    }
   ],
   "source": [
    "USE_OVI_ITERS = os.path.exists(PATH_TO_CSV_FOLDER+\"ovi_iters.csv\")\n",
    "ovi_conf = \"OVI\"\n",
    "if (USE_OVI_ITERS):\n",
    "    with open(PATH_TO_CSV_FOLDER+\"ovi_iters.csv\", newline=\"\\n\") as oviItersFile:\n",
    "        reader = csv.DictReader(oviItersFile)\n",
    "        for row in reader:            \n",
    "            if row[\"Conf\"] != ovi_conf:\n",
    "                continue\n",
    "            #print(row)\n",
    "            if not is_float(row[\"Number Of Verif. Phases\"]):\n",
    "                print(\"%s has no ovi_iters in Model %s and so add a 0\" % (ovi_conf, parsed_row[\"Model\"]))\n",
    "                row[\"Number Of Verif. Phases\"] = 0\n",
    "            table_ovi_iters.append(row)\n",
    "#(table_ovi_iters)"
   ]
  },
  {
   "cell_type": "code",
   "execution_count": 16,
   "metadata": {},
   "outputs": [
    {
     "ename": "NameError",
     "evalue": "name 'table_times' is not defined",
     "output_type": "error",
     "traceback": [
      "\u001b[0;31m---------------------------------------------------------------------------\u001b[0m",
      "\u001b[0;31mNameError\u001b[0m                                 Traceback (most recent call last)",
      "\u001b[0;32m<ipython-input-16-9635f4c7265d>\u001b[0m in \u001b[0;36m<module>\u001b[0;34m\u001b[0m\n\u001b[1;32m      1\u001b[0m \u001b[0;31m#Test Read Filed\u001b[0m\u001b[0;34m\u001b[0m\u001b[0;34m\u001b[0m\u001b[0;34m\u001b[0m\u001b[0m\n\u001b[0;32m----> 2\u001b[0;31m \u001b[0;32mfor\u001b[0m \u001b[0mrow\u001b[0m \u001b[0;32min\u001b[0m \u001b[0mtable_times\u001b[0m\u001b[0;34m:\u001b[0m\u001b[0;34m\u001b[0m\u001b[0;34m\u001b[0m\u001b[0m\n\u001b[0m\u001b[1;32m      3\u001b[0m     \u001b[0;31m#print(row)\u001b[0m\u001b[0;34m\u001b[0m\u001b[0;34m\u001b[0m\u001b[0;34m\u001b[0m\u001b[0m\n\u001b[1;32m      4\u001b[0m     \u001b[0;32mpass\u001b[0m\u001b[0;34m\u001b[0m\u001b[0;34m\u001b[0m\u001b[0m\n\u001b[1;32m      5\u001b[0m \u001b[0;34m\u001b[0m\u001b[0m\n",
      "\u001b[0;31mNameError\u001b[0m: name 'table_times' is not defined"
     ]
    }
   ],
   "source": [
    "#Test Read Filed\n",
    "for row in table_times:\n",
    "    #print(row)\n",
    "    pass\n",
    "\n",
    "for row in table_properties:\n",
    "    pass"
   ]
  },
  {
   "cell_type": "markdown",
   "metadata": {},
   "source": [
    "### Unify Data"
   ]
  },
  {
   "cell_type": "code",
   "execution_count": 17,
   "metadata": {},
   "outputs": [
    {
     "ename": "NameError",
     "evalue": "name 'table_times' is not defined",
     "output_type": "error",
     "traceback": [
      "\u001b[0;31m---------------------------------------------------------------------------\u001b[0m",
      "\u001b[0;31mNameError\u001b[0m                                 Traceback (most recent call last)",
      "\u001b[0;32m<ipython-input-17-76148e207c35>\u001b[0m in \u001b[0;36m<module>\u001b[0;34m\u001b[0m\n\u001b[0;32m----> 1\u001b[0;31m \u001b[0mtable_times\u001b[0m \u001b[0;34m=\u001b[0m \u001b[0msorted\u001b[0m\u001b[0;34m(\u001b[0m\u001b[0mtable_times\u001b[0m\u001b[0;34m,\u001b[0m \u001b[0mkey\u001b[0m\u001b[0;34m=\u001b[0m\u001b[0;32mlambda\u001b[0m \u001b[0mrow\u001b[0m\u001b[0;34m:\u001b[0m \u001b[0mint\u001b[0m\u001b[0;34m(\u001b[0m\u001b[0mrow\u001b[0m\u001b[0;34m[\u001b[0m\u001b[0;34m'#States'\u001b[0m\u001b[0;34m]\u001b[0m\u001b[0;34m)\u001b[0m\u001b[0;34m)\u001b[0m\u001b[0;34m\u001b[0m\u001b[0;34m\u001b[0m\u001b[0m\n\u001b[0m\u001b[1;32m      2\u001b[0m \u001b[0mtable_properties\u001b[0m \u001b[0;34m=\u001b[0m \u001b[0msorted\u001b[0m\u001b[0;34m(\u001b[0m\u001b[0mtable_properties\u001b[0m\u001b[0;34m,\u001b[0m \u001b[0mkey\u001b[0m\u001b[0;34m=\u001b[0m\u001b[0;32mlambda\u001b[0m \u001b[0mrow\u001b[0m\u001b[0;34m:\u001b[0m \u001b[0mint\u001b[0m\u001b[0;34m(\u001b[0m\u001b[0mrow\u001b[0m\u001b[0;34m[\u001b[0m\u001b[0;34m'NumStates'\u001b[0m\u001b[0;34m]\u001b[0m\u001b[0;34m)\u001b[0m\u001b[0;34m)\u001b[0m\u001b[0;34m\u001b[0m\u001b[0;34m\u001b[0m\u001b[0m\n",
      "\u001b[0;31mNameError\u001b[0m: name 'table_times' is not defined"
     ]
    }
   ],
   "source": [
    "table_times = sorted(table_times, key=lambda row: int(row['#States']))\n",
    "table_properties = sorted(table_properties, key=lambda row: int(row['NumStates']))"
   ]
  },
  {
   "cell_type": "code",
   "execution_count": 18,
   "metadata": {},
   "outputs": [
    {
     "name": "stdout",
     "output_type": "stream",
     "text": [
      "USE_TIMES: True, USE_ITER: False, SHOULD CLIP? True\n"
     ]
    },
    {
     "ename": "NameError",
     "evalue": "name 'USE_OVI_ITERS' is not defined",
     "output_type": "error",
     "traceback": [
      "\u001b[0;31m---------------------------------------------------------------------------\u001b[0m",
      "\u001b[0;31mNameError\u001b[0m                                 Traceback (most recent call last)",
      "\u001b[0;32m<ipython-input-18-fe5aaa69035a>\u001b[0m in \u001b[0;36m<module>\u001b[0;34m\u001b[0m\n\u001b[1;32m     22\u001b[0m             \u001b[0mdata\u001b[0m\u001b[0;34m[\u001b[0m\u001b[0miter_prefix\u001b[0m\u001b[0;34m+\u001b[0m\u001b[0mkey\u001b[0m\u001b[0;34m]\u001b[0m \u001b[0;34m=\u001b[0m \u001b[0;34m[\u001b[0m\u001b[0;34m]\u001b[0m\u001b[0;34m\u001b[0m\u001b[0;34m\u001b[0m\u001b[0m\n\u001b[1;32m     23\u001b[0m \u001b[0;34m\u001b[0m\u001b[0m\n\u001b[0;32m---> 24\u001b[0;31m \u001b[0;32mif\u001b[0m \u001b[0;34m(\u001b[0m\u001b[0mUSE_OVI_ITERS\u001b[0m\u001b[0;34m)\u001b[0m\u001b[0;34m:\u001b[0m\u001b[0;34m\u001b[0m\u001b[0;34m\u001b[0m\u001b[0m\n\u001b[0m\u001b[1;32m     25\u001b[0m     \u001b[0mdata\u001b[0m\u001b[0;34m[\u001b[0m\u001b[0;34m\"Number Of Verif. Phases\"\u001b[0m\u001b[0;34m]\u001b[0m \u001b[0;34m=\u001b[0m \u001b[0;34m[\u001b[0m\u001b[0;34m]\u001b[0m\u001b[0;34m\u001b[0m\u001b[0;34m\u001b[0m\u001b[0m\n\u001b[1;32m     26\u001b[0m \u001b[0;34m\u001b[0m\u001b[0m\n",
      "\u001b[0;31mNameError\u001b[0m: name 'USE_OVI_ITERS' is not defined"
     ]
    }
   ],
   "source": [
    "USE_TIMES = True\n",
    "USE_ITERS = False\n",
    "\n",
    "threshold_time = 15 * 60\n",
    "threshold_iter = 1000000000\n",
    "PENTALY_FOR_NOT_FINISHING = min(math.inf, threshold_time) #900s is 15 min computation time\n",
    "if USE_ITERS:\n",
    "    PENTALY_FOR_NOT_FINISHING = threshold_iter\n",
    "CLIP_DATA = True\n",
    "\n",
    "print(\"USE_TIMES: %r, USE_ITER: %r, SHOULD CLIP? %r\" % (USE_TIMES, USE_ITERS, CLIP_DATA))\n",
    "\n",
    "iter_prefix = \"\" if (not USE_TIMES) else \"Iter_\"\n",
    "\n",
    "data = dict()\n",
    "model_names = []\n",
    "for key in property_keys:\n",
    "        data[key] = []\n",
    "for key in config_keys:\n",
    "        data[key] = []\n",
    "        if (USE_TIMES and USE_ITERS):\n",
    "            data[iter_prefix+key] = []\n",
    "            \n",
    "if (USE_OVI_ITERS):\n",
    "    data[\"Number Of Verif. Phases\"] = []\n",
    "\n",
    "\n",
    "def getIndexOfModelInTable(table, modelName, use):\n",
    "    if (use):\n",
    "        for j in range(len(table)):\n",
    "            if (table[j][\"Model\"] == modelName):\n",
    "                return j\n",
    "    return -1\n",
    "\n",
    "def shouldKeepModel(index, use):\n",
    "    return ((not use) or (use and index >=0))\n",
    "          \n",
    "    \n",
    "#Gather the whole data\n",
    "#Highly inefficient I suppose\n",
    "for i in range(len(table_properties)):\n",
    "    properties_row = table_properties[i]\n",
    "    \n",
    "    #iter_index = getIndexOfModelInTable(table_iters, properties_row[\"Model\"], USE_ITERS)\n",
    "    time_index = getIndexOfModelInTable(table_times, properties_row[\"Model\"], USE_TIMES)\n",
    "    if (USE_OVI_ITERS):\n",
    "        ovi_iters_index = getIndexOfModelInTable(table_ovi_iters, properties_row[\"Model\"], USE_OVI_ITERS)\n",
    "    \n",
    "    #Should keep row?\n",
    "    if (not shouldKeepModel(time_index, USE_TIMES)):\n",
    "        continue\n",
    "    elif (not shouldKeepModel(iter_index, USE_ITERS)):\n",
    "        continue\n",
    "    \n",
    "    model_names.append(properties_row[\"Model\"])\n",
    "    #Parse Data\n",
    "    for key in property_keys:\n",
    "                if (not is_float(properties_row[key])):\n",
    "                      data[key].append(0)\n",
    "                else: \n",
    "                        data[key].append(float(properties_row[key]))\n",
    "    \n",
    "    if (USE_OVI_ITERS):\n",
    "        data[\"Number Of Verif. Phases\"].append(int(table_ovi_iters[ovi_iters_index][\"Number Of Verif. Phases\"]))\n",
    "\n",
    "    for key in config_keys:\n",
    "            #Times\n",
    "            if (USE_TIMES):\n",
    "                times_row = table_times[time_index]\n",
    "                if (not is_float(times_row[key])):\n",
    "                        data[key].append(PENTALY_FOR_NOT_FINISHING)\n",
    "                else:\n",
    "                        entry = float(times_row[key])\n",
    "                        entry = min(entry, threshold_time) if CLIP_DATA else entry\n",
    "                        data[key].append(entry)\n",
    "            \n",
    "            #Iters\n",
    "            if (USE_ITERS):\n",
    "                iters_row = table_iters[iter_index]\n",
    "                if (not is_float(iters_row[key])):\n",
    "                        data[iter_prefix+key].append(PENTALY_FOR_NOT_FINISHING) # How to set penatly for not finishing fo iters?\n",
    "                else:\n",
    "                        entry = int(iters_row[key])\n",
    "                        entry = min(entry, threshold_iter) if CLIP_DATA else entry\n",
    "                        data[iter_prefix+key].append(entry)"
   ]
  },
  {
   "cell_type": "markdown",
   "metadata": {},
   "source": [
    "### Attach labels if you want to"
   ]
  },
  {
   "cell_type": "code",
   "execution_count": 19,
   "metadata": {},
   "outputs": [],
   "source": [
    "#print(model_names)\n",
    "#print(data[\"Number Of Verif. Phases\"])"
   ]
  },
  {
   "cell_type": "code",
   "execution_count": 20,
   "metadata": {},
   "outputs": [],
   "source": [
    "USE_LABELS = False\n",
    "if (USE_LABELS):\n",
    "    model_name_labels = [\n",
    "        \"MinAct_2\", #Default Label\n",
    "        \"MinAct_5\",\n",
    "        \"MinAct_10\",\n",
    "    ]\n",
    "    labeling = []\n",
    "\n",
    "    counter = 0\n",
    "    for model in model_names:\n",
    "        for label in model_name_labels:\n",
    "            if (label in model):\n",
    "                labeling.append(label)\n",
    "                break\n",
    "        counter+=1\n",
    "        if (counter > len(labeling)):\n",
    "            labeling.append(model_name_labels[0])\n",
    "\n",
    "    color_options = [\n",
    "        \"blue\",\n",
    "        \"red\",\n",
    "        \"green\",\n",
    "        \"cyan\"\n",
    "    ]\n",
    "    \n",
    "    pandas_labels = pd.Series(labeling)\n",
    "\n",
    "    coloring = dict()\n",
    "    for i in range(len(model_name_labels)):\n",
    "        coloring[model_name_labels[i]] = color_options[i]\n",
    "\n",
    "    print(coloring)"
   ]
  },
  {
   "cell_type": "code",
   "execution_count": 21,
   "metadata": {},
   "outputs": [],
   "source": [
    "def findModelWithNameInTable(table, modelName):\n",
    "    for row in table:\n",
    "        if row[\"Model\"] == modelName:\n",
    "            return row"
   ]
  },
  {
   "cell_type": "markdown",
   "metadata": {},
   "source": [
    "### Look at Models left"
   ]
  },
  {
   "cell_type": "code",
   "execution_count": 22,
   "metadata": {},
   "outputs": [
    {
     "data": {
      "image/png": "[encoded data removed]",
      "text/plain": [
       "<Figure size 864x864 with 25 Axes>"
      ]
     },
     "metadata": {
      "needs_background": "light"
     },
     "output_type": "display_data"
    }
   ],
   "source": [
    "#Make Boxplots\n",
    "\n",
    "entries_per_column = 5\n",
    "entries_per_row = int(math.ceil(len(property_keys)/5))\n",
    "fix, axs = plt.subplots(entries_per_row, entries_per_column, figsize=(12,12), constrained_layout=True)\n",
    "row = 0\n",
    "column = 0\n",
    "for property_key in property_keys:\n",
    "        if (column == entries_per_column):\n",
    "            row += 1\n",
    "            column = 0\n",
    "        axs[row, column].boxplot(data[property_key], showmeans=True)\n",
    "        axs[row, column].set_xlabel(property_key)\n",
    "        column+=1"
   ]
  },
  {
   "cell_type": "code",
   "execution_count": 23,
   "metadata": {},
   "outputs": [
    {
     "name": "stdout",
     "output_type": "stream",
     "text": [
      "Key:  NumStates\n"
     ]
    },
    {
     "ename": "ValueError",
     "evalue": "zero-size array to reduction operation minimum which has no identity",
     "output_type": "error",
     "traceback": [
      "\u001b[0;31m---------------------------------------------------------------------------\u001b[0m",
      "\u001b[0;31mValueError\u001b[0m                                Traceback (most recent call last)",
      "\u001b[0;32m<ipython-input-23-6ff7a3d8e551>\u001b[0m in \u001b[0;36m<module>\u001b[0;34m\u001b[0m\n\u001b[1;32m      7\u001b[0m \u001b[0;32mfor\u001b[0m \u001b[0mkey\u001b[0m \u001b[0;32min\u001b[0m \u001b[0;34m[\u001b[0m\u001b[0;34m\"NumStates\"\u001b[0m\u001b[0;34m,\u001b[0m \u001b[0;34m\"BiggestMEC\"\u001b[0m\u001b[0;34m,\u001b[0m \u001b[0;34m\"NumMECs\"\u001b[0m\u001b[0;34m,\u001b[0m \u001b[0;34m\"NumMaxActions\"\u001b[0m\u001b[0;34m,\u001b[0m \u001b[0;34m\"NumProbActions\"\u001b[0m\u001b[0;34m,\u001b[0m \u001b[0;34m\"NumUnknown\"\u001b[0m\u001b[0;34m]\u001b[0m\u001b[0;34m:\u001b[0m\u001b[0;34m\u001b[0m\u001b[0;34m\u001b[0m\u001b[0m\n\u001b[1;32m      8\u001b[0m     \u001b[0mprint\u001b[0m\u001b[0;34m(\u001b[0m\u001b[0;34m\"Key: \"\u001b[0m\u001b[0;34m,\u001b[0m \u001b[0mkey\u001b[0m\u001b[0;34m)\u001b[0m\u001b[0;34m\u001b[0m\u001b[0;34m\u001b[0m\u001b[0m\n\u001b[0;32m----> 9\u001b[0;31m     \u001b[0mprint\u001b[0m\u001b[0;34m(\u001b[0m\u001b[0;34m\"\\t Min: \"\u001b[0m\u001b[0;34m,\u001b[0m\u001b[0mdata_as_np\u001b[0m\u001b[0;34m[\u001b[0m\u001b[0mkey\u001b[0m\u001b[0;34m]\u001b[0m\u001b[0;34m.\u001b[0m\u001b[0mmin\u001b[0m\u001b[0;34m(\u001b[0m\u001b[0;34m)\u001b[0m\u001b[0;34m)\u001b[0m\u001b[0;34m\u001b[0m\u001b[0;34m\u001b[0m\u001b[0m\n\u001b[0m\u001b[1;32m     10\u001b[0m     \u001b[0mprint\u001b[0m\u001b[0;34m(\u001b[0m\u001b[0;34m\"\\t Max: \"\u001b[0m\u001b[0;34m,\u001b[0m\u001b[0mdata_as_np\u001b[0m\u001b[0;34m[\u001b[0m\u001b[0mkey\u001b[0m\u001b[0;34m]\u001b[0m\u001b[0;34m.\u001b[0m\u001b[0mmax\u001b[0m\u001b[0;34m(\u001b[0m\u001b[0;34m)\u001b[0m\u001b[0;34m)\u001b[0m\u001b[0;34m\u001b[0m\u001b[0;34m\u001b[0m\u001b[0m\n\u001b[1;32m     11\u001b[0m     \u001b[0mprint\u001b[0m\u001b[0;34m(\u001b[0m\u001b[0;34m\"\\t Mean: \"\u001b[0m\u001b[0;34m,\u001b[0m\u001b[0mdata_as_np\u001b[0m\u001b[0;34m[\u001b[0m\u001b[0mkey\u001b[0m\u001b[0;34m]\u001b[0m\u001b[0;34m.\u001b[0m\u001b[0mmean\u001b[0m\u001b[0;34m(\u001b[0m\u001b[0;34m)\u001b[0m\u001b[0;34m)\u001b[0m\u001b[0;34m\u001b[0m\u001b[0;34m\u001b[0m\u001b[0m\n",
      "\u001b[0;32m~/anaconda3/lib/python3.8/site-packages/numpy/core/_methods.py\u001b[0m in \u001b[0;36m_amin\u001b[0;34m(a, axis, out, keepdims, initial, where)\u001b[0m\n\u001b[1;32m     41\u001b[0m def _amin(a, axis=None, out=None, keepdims=False,\n\u001b[1;32m     42\u001b[0m           initial=_NoValue, where=True):\n\u001b[0;32m---> 43\u001b[0;31m     \u001b[0;32mreturn\u001b[0m \u001b[0mumr_minimum\u001b[0m\u001b[0;34m(\u001b[0m\u001b[0ma\u001b[0m\u001b[0;34m,\u001b[0m \u001b[0maxis\u001b[0m\u001b[0;34m,\u001b[0m \u001b[0;32mNone\u001b[0m\u001b[0;34m,\u001b[0m \u001b[0mout\u001b[0m\u001b[0;34m,\u001b[0m \u001b[0mkeepdims\u001b[0m\u001b[0;34m,\u001b[0m \u001b[0minitial\u001b[0m\u001b[0;34m,\u001b[0m \u001b[0mwhere\u001b[0m\u001b[0;34m)\u001b[0m\u001b[0;34m\u001b[0m\u001b[0;34m\u001b[0m\u001b[0m\n\u001b[0m\u001b[1;32m     44\u001b[0m \u001b[0;34m\u001b[0m\u001b[0m\n\u001b[1;32m     45\u001b[0m def _sum(a, axis=None, dtype=None, out=None, keepdims=False,\n",
      "\u001b[0;31mValueError\u001b[0m: zero-size array to reduction operation minimum which has no identity"
     ]
    }
   ],
   "source": [
    "#Print out specific stuff you are interested in\n",
    "data_as_np = dict(data)\n",
    "for key in data_as_np.keys():\n",
    "    data_as_np[key] = np.asarray(data_as_np[key])\n",
    "    \n",
    "#for key in property_keys:    \n",
    "for key in [\"NumStates\", \"BiggestMEC\", \"NumMECs\", \"NumMaxActions\", \"NumProbActions\", \"NumUnknown\"]:\n",
    "    print(\"Key: \", key)\n",
    "    print(\"\\t Min: \",data_as_np[key].min())\n",
    "    print(\"\\t Max: \",data_as_np[key].max())\n",
    "    print(\"\\t Mean: \",data_as_np[key].mean())"
   ]
  },
  {
   "cell_type": "markdown",
   "metadata": {},
   "source": [
    "\n",
    "## Look at some graph to gain understanding of dataset"
   ]
  },
  {
   "cell_type": "code",
   "execution_count": null,
   "metadata": {},
   "outputs": [],
   "source": [
    "x_axis = range(len(table_times))\n",
    "y_axises = dict()\n",
    "\n",
    "#Init y_axises\n",
    "for key in config_keys:\n",
    "    y_axises[key] = data[key]"
   ]
  },
  {
   "cell_type": "code",
   "execution_count": 24,
   "metadata": {},
   "outputs": [
    {
     "ename": "NameError",
     "evalue": "name 'y_axises' is not defined",
     "output_type": "error",
     "traceback": [
      "\u001b[0;31m---------------------------------------------------------------------------\u001b[0m",
      "\u001b[0;31mNameError\u001b[0m                                 Traceback (most recent call last)",
      "\u001b[0;32m<ipython-input-24-74c3b97d03ce>\u001b[0m in \u001b[0;36m<module>\u001b[0;34m\u001b[0m\n\u001b[0;32m----> 1\u001b[0;31m \u001b[0;32mfor\u001b[0m \u001b[0mconfig\u001b[0m \u001b[0;32min\u001b[0m \u001b[0my_axises\u001b[0m\u001b[0;34m.\u001b[0m\u001b[0mkeys\u001b[0m\u001b[0;34m(\u001b[0m\u001b[0;34m)\u001b[0m\u001b[0;34m:\u001b[0m\u001b[0;34m\u001b[0m\u001b[0;34m\u001b[0m\u001b[0m\n\u001b[0m\u001b[1;32m      2\u001b[0m     \u001b[0mplt\u001b[0m\u001b[0;34m.\u001b[0m\u001b[0mplot\u001b[0m\u001b[0;34m(\u001b[0m\u001b[0mx_axis\u001b[0m\u001b[0;34m,\u001b[0m \u001b[0my_axises\u001b[0m\u001b[0;34m[\u001b[0m\u001b[0mconfig\u001b[0m\u001b[0;34m]\u001b[0m\u001b[0;34m,\u001b[0m \u001b[0mlabel\u001b[0m\u001b[0;34m=\u001b[0m\u001b[0mconfig\u001b[0m\u001b[0;34m)\u001b[0m\u001b[0;34m\u001b[0m\u001b[0;34m\u001b[0m\u001b[0m\n\u001b[1;32m      3\u001b[0m \u001b[0mplt\u001b[0m\u001b[0;34m.\u001b[0m\u001b[0mlegend\u001b[0m\u001b[0;34m(\u001b[0m\u001b[0;34m)\u001b[0m\u001b[0;34m\u001b[0m\u001b[0;34m\u001b[0m\u001b[0m\n\u001b[1;32m      4\u001b[0m \u001b[0mplt\u001b[0m\u001b[0;34m.\u001b[0m\u001b[0mshow\u001b[0m\u001b[0;34m(\u001b[0m\u001b[0;34m)\u001b[0m\u001b[0;34m\u001b[0m\u001b[0;34m\u001b[0m\u001b[0m\n",
      "\u001b[0;31mNameError\u001b[0m: name 'y_axises' is not defined"
     ]
    }
   ],
   "source": [
    "for config in y_axises.keys():\n",
    "    plt.plot(x_axis, y_axises[config], label=config)\n",
    "plt.legend()\n",
    "plt.show()"
   ]
  },
  {
   "cell_type": "code",
   "execution_count": 25,
   "metadata": {},
   "outputs": [
    {
     "name": "stdout",
     "output_type": "stream",
     "text": [
      "['#1f77b4', '#ff7f0e', '#2ca02c', '#d62728', '#9467bd', '#8c564b', '#e377c2', '#7f7f7f', '#bcbd22', '#17becf']\n"
     ]
    }
   ],
   "source": [
    "print(plt.rcParams['axes.prop_cycle'].by_key()['color'])"
   ]
  },
  {
   "cell_type": "code",
   "execution_count": 26,
   "metadata": {},
   "outputs": [],
   "source": [
    "# Create Color mapping for confs\n",
    "colorMapping = dict()\n",
    "\n",
    "for conf in config_keys:\n",
    "    if (\"BVI\" in conf):\n",
    "        colorMapping[conf] = '#1f77b4'\n",
    "    elif (\"SVI\" in conf):\n",
    "        colorMapping[conf] = '#ff7f0e'\n",
    "    elif (\"OVI\" in conf):\n",
    "        colorMapping[conf] = '#2ca02c'\n",
    "    elif (\"VI\" in conf):\n",
    "        colorMapping[conf] = '#d62728'\n",
    "    elif (\"WP\" in conf):\n",
    "        colorMapping[conf] = '#9467bd'\n",
    "    elif (\"T_SI_SI\"):\n",
    "        colorMapping[conf] = '#8c564b'\n",
    "    elif (\"TOP_BVI\"):\n",
    "        colorMapping[conf] = '#e377c2'\n",
    "    else:\n",
    "        colorMapping[conf] = '#7f7f7f'\n",
    "        \n",
    "lineStyleMapping = dict()\n",
    "for conf in config_keys:\n",
    "    if (\"BVI\" in conf):\n",
    "        lineStyleMapping[conf] = 'solid'\n",
    "    elif (\"SVI\" in conf):\n",
    "        lineStyleMapping[conf] = (0, (1, 1)) #'dotted'\n",
    "    elif (\"OVI\" in conf):\n",
    "        lineStyleMapping[conf] = (0, (5, 10)) # 'loosely dashed'\n",
    "    elif (\"VI\" in conf):\n",
    "        lineStyleMapping[conf] = (0,(5,1)) #densely dashed\n",
    "    elif (\"SI\" in conf):\n",
    "        lineStyleMapping[conf] = (0, (3, 5, 1, 5, 1, 5)) # 'dashdotted'\n",
    "    elif (\"WP\" in conf):\n",
    "        lineStyleMapping[conf] = 'solid'\n",
    "        \n",
    "for conf in config_keys:\n",
    "    if (\"BVI\" in conf):\n",
    "        lineStyleMapping[conf] = (0, (5, 10))\n",
    "    elif (\"SVI\" in conf):\n",
    "        lineStyleMapping[conf] = (0, (5, 10)) #'dotted'\n",
    "    elif (\"OVI\" in conf):\n",
    "        lineStyleMapping[conf] = 'solid' #(0, (5, 10)) # 'loosely dashed'\n",
    "    elif (\"VI\" in conf):\n",
    "        lineStyleMapping[conf] = (0, (5, 10)) #densely dashed\n",
    "    elif (\"SI\" in conf):\n",
    "        lineStyleMapping[conf] = (0, (5, 10)) # 'dashdotted'\n",
    "    elif (\"WP\" in conf):\n",
    "        lineStyleMapping[conf] = (0, (5, 10))\n",
    "        \n",
    "markerMapping = dict()\n",
    "\"\"\"\n",
    "for conf in config_keys:\n",
    "    if (\"D_\" in conf):\n",
    "        markerMapping[conf] = \"*\" # start\n",
    "    elif (\"T_\" in conf):\n",
    "        markerMapping[conf] = \"X\" # x (filled)\n",
    "    elif (\"TOP_\" in conf):\n",
    "        markerMapping[conf] = \"D\" # diamond\n",
    "    elif (\"G_\" in conf):\n",
    "        markerMapping[conf] = \"s\" # square\n",
    "    elif (\"LP_\" in conf):\n",
    "        markerMapping[conf] = \"p\" # pentagon\n",
    "    #elif (\"WP\" in conf):\n",
    "        #markerMapping[conf] = \"o\" # circle\n",
    "    else:\n",
    "        markerMapping[conf] = \"v\" # triangle down\n",
    "\"\"\"\n",
    "\n",
    "for conf in config_keys:\n",
    "    if (\"BVI\" in conf):\n",
    "        markerMapping[conf] = \"*\" # start\n",
    "    elif (\"OVI\" in conf):\n",
    "        markerMapping[conf] = \"X\" # x (filled)\n",
    "    elif (\"SVI\" in conf):\n",
    "        markerMapping[conf] = \"D\" # diamond\n",
    "    elif (\"VI\" in conf):\n",
    "        markerMapping[conf] = \"s\" # square\n",
    "    elif (\"WP\" in conf):\n",
    "        markerMapping[conf] = \"p\" # pentagon\n",
    "    elif (\"TOP_BVI\" in conf):\n",
    "        markerMapping[conf] = \"o\" # circle\n",
    "    elif (\"T_SI_SI\" in conf):\n",
    "        markerMapping[conf] = \"v\" # triangle\n",
    "    else:\n",
    "        markerMapping[conf] = \".\""
   ]
  },
  {
   "cell_type": "code",
   "execution_count": 27,
   "metadata": {
    "scrolled": false
   },
   "outputs": [
    {
     "name": "stdout",
     "output_type": "stream",
     "text": [
      "For Algo VI not one model was solved\n"
     ]
    },
    {
     "ename": "IndexError",
     "evalue": "list index out of range",
     "output_type": "error",
     "traceback": [
      "\u001b[0;31m---------------------------------------------------------------------------\u001b[0m",
      "\u001b[0;31mIndexError\u001b[0m                                Traceback (most recent call last)",
      "\u001b[0;32m<ipython-input-27-ec36c5b3471e>\u001b[0m in \u001b[0;36m<module>\u001b[0;34m\u001b[0m\n\u001b[1;32m     21\u001b[0m     \u001b[0;32mif\u001b[0m \u001b[0;34m(\u001b[0m\u001b[0msubres\u001b[0m \u001b[0;34m==\u001b[0m \u001b[0;34m[\u001b[0m\u001b[0;34m]\u001b[0m\u001b[0;34m)\u001b[0m\u001b[0;34m:\u001b[0m\u001b[0;34m\u001b[0m\u001b[0;34m\u001b[0m\u001b[0m\n\u001b[1;32m     22\u001b[0m         \u001b[0mprint\u001b[0m\u001b[0;34m(\u001b[0m\u001b[0;34m\"For Algo %s not one model was solved\"\u001b[0m \u001b[0;34m%\u001b[0m \u001b[0;34m(\u001b[0m\u001b[0malgo\u001b[0m\u001b[0;34m)\u001b[0m\u001b[0;34m)\u001b[0m\u001b[0;34m\u001b[0m\u001b[0;34m\u001b[0m\u001b[0m\n\u001b[0;32m---> 23\u001b[0;31m     \u001b[0mfor_ordering\u001b[0m\u001b[0;34m[\u001b[0m\u001b[0malgo\u001b[0m\u001b[0;34m]\u001b[0m \u001b[0;34m=\u001b[0m \u001b[0;34m(\u001b[0m\u001b[0mlen\u001b[0m\u001b[0;34m(\u001b[0m\u001b[0msubres\u001b[0m\u001b[0;34m)\u001b[0m\u001b[0;34m,\u001b[0m\u001b[0msubres\u001b[0m\u001b[0;34m[\u001b[0m\u001b[0mlen\u001b[0m\u001b[0;34m(\u001b[0m\u001b[0msubres\u001b[0m\u001b[0;34m)\u001b[0m\u001b[0;34m-\u001b[0m\u001b[0;36m1\u001b[0m\u001b[0;34m]\u001b[0m\u001b[0;34m)\u001b[0m\u001b[0;34m\u001b[0m\u001b[0;34m\u001b[0m\u001b[0m\n\u001b[0m\u001b[1;32m     24\u001b[0m \u001b[0;34m\u001b[0m\u001b[0m\n\u001b[1;32m     25\u001b[0m \u001b[0;31m# Get a list of algos in order for the legend\u001b[0m\u001b[0;34m\u001b[0m\u001b[0;34m\u001b[0m\u001b[0;34m\u001b[0m\u001b[0m\n",
      "\u001b[0;31mIndexError\u001b[0m: list index out of range"
     ]
    }
   ],
   "source": [
    "# Since we want to sort legend by when an algo stops (So e.g. condon first, as it solves only 5), we need this method to find min. \n",
    "# for_ordering is a dict that maps each algo to a tuple: (Number of solved benchmarks, time to solve them all)\n",
    "myDict = dict()\n",
    "for_ordering = dict()\n",
    "\n",
    "def my_min(for_ordering):\n",
    "    min = (math.inf,math.inf) #certainly greater, as only 34 benchmarks\n",
    "    min_algo = \"None\"\n",
    "    for algo in for_ordering.keys():\n",
    "        bench,time = for_ordering[algo]\n",
    "        \n",
    "        if bench < min[0] or (bench == min[0] and time > min[1]):\n",
    "            min = (bench,time)\n",
    "            min_algo = algo\n",
    "    return min_algo\n",
    "\n",
    "for algo in config_keys:\n",
    "    subres = [float(i) for i in data[algo] if (i != PENTALY_FOR_NOT_FINISHING)]\n",
    "    subres.sort()\n",
    "    myDict[algo] = [i for i in subres]\n",
    "    if (subres == []):\n",
    "        print(\"For Algo %s not one model was solved\" % (algo))\n",
    "    for_ordering[algo] = (len(subres),subres[len(subres)-1])\n",
    "\n",
    "# Get a list of algos in order for the legend\n",
    "ordered_algos = []\n",
    "while bool(for_ordering):\n",
    "    min_algo = my_min(for_ordering)\n",
    "    ordered_algos += [min_algo]\n",
    "    for_ordering.pop(min_algo)\n",
    "\n",
    "\n",
    "#print(myDict)\n",
    "\n",
    "fig1, ax1 = plt.subplots(figsize=(12,4))\n",
    "ax1.set_xlabel(\"Solved benchmarks\")\n",
    "ax1.set_ylabel(\"Time\")\n",
    "\n",
    "#fig2, ax2 = plt.subplots()\n",
    "#ax2.set_xlabel(\"Time\")\n",
    "#ax2.set_ylabel(\"Solved benchmarks\")\n",
    "\n",
    "\n",
    "x = range(1,len(data[\"NumStates\"])+1)\n",
    "\n",
    "#x2 = range(0,1700)\n",
    "\n",
    "legend_sorting = []\n",
    "runtimes = dict()\n",
    "errors = dict()\n",
    "sorting = dict()\n",
    "label_mapping = dict()\n",
    "label_reverse_mapping = dict()\n",
    "\n",
    "for conf in config_keys:\n",
    "    label_reverse_mapping[conf] = conf\n",
    "    label_mapping[conf] = conf\n",
    "    runtimes[conf] = 0\n",
    "    errors[conf] = 0\n",
    "    sorting[conf] = 0\n",
    "    for i in range(len(data[conf])):\n",
    "        if (data[conf][i] != PENTALY_FOR_NOT_FINISHING):\n",
    "            runtimes[conf] += data[conf][i]\n",
    "            sorting[conf] += data[conf][i]\n",
    "        else:\n",
    "            errors[conf] += 1\n",
    "            sorting[conf] += 15 * 60 * 1000\n",
    "    legend_sorting.append([conf, sorting[conf]])\n",
    "legend_sorting.sort(key = lambda x : x[1])\n",
    "\n",
    "label_mapping[\"TOP_BVI\"] = \"PT-BVI\"\n",
    "label_reverse_mapping[\"PT-BVI\"] = \"TOP_BVI\"\n",
    "label_mapping[\"T_SI_SI\"] = \"T-SI\"\n",
    "label_reverse_mapping[\"T-SI\"] = \"T_SI_SI\"\n",
    "\n",
    "for conf in legend_sorting:\n",
    "    print(\"Conf %s: \\t%f \\t Not Finished / Error / Wrong Result: \\t %i\" % (conf[0], runtimes[conf[0]], errors[conf[0]]))\n",
    "\n",
    "\n",
    "\n",
    "\n",
    "ordered_algos.reverse()\n",
    "for algo in ordered_algos:\n",
    "    y = [sum(myDict[algo][:i+1]) for i in range(0,len(myDict[algo])) if myDict[algo][i] != PENTALY_FOR_NOT_FINISHING]\n",
    "    ax1.plot([i for i in x if i<=len(myDict[algo])],y,\n",
    "             c = colorMapping[algo],\n",
    "             #linestyle = lineStyleMapping[algo],\n",
    "            )\n",
    "    ax1.scatter(x[len(myDict[algo])-1],y[len(myDict[algo])-1],\n",
    "                label=label_mapping[algo],\n",
    "                c = colorMapping[algo],\n",
    "                marker=markerMapping[algo], s=50,\n",
    "               )\n",
    "    handles, labels = ax1.get_legend_handles_labels()\n",
    "    # sort both labels and handles by labels\n",
    "    labels, handles = zip(*sorted(zip(labels, handles), key=lambda t: sorting[label_reverse_mapping[t[0]]]))\n",
    "    #print(labels)\n",
    "    #print(handles)\n",
    "    ax1.legend(handles, labels, loc='center left', bbox_to_anchor=(1, 0.5), fontsize = 14)\n",
    "    #plt.legend(loc=\"upper left\")\n",
    "    \"\"\"\n",
    "    if algo == \"19\":\n",
    "    ax1.plot([i for i in x if i<=len(myDict[algo])],y, label=algo, c='tab:brown', zorder=1)\n",
    "    ax1.scatter(x[len(myDict[algo])-1],y[len(myDict[algo])-1], s=30, marker='*', c='tab:brown', zorder=2)\n",
    "    \"\"\"\n",
    "\n",
    "#fig2.savefig('Time2Bench')\n",
    "\n",
    "\n"
   ]
  },
  {
   "cell_type": "code",
   "execution_count": 28,
   "metadata": {},
   "outputs": [
    {
     "ename": "KeyError",
     "evalue": "'Number Of Verif. Phases'",
     "output_type": "error",
     "traceback": [
      "\u001b[0;31m---------------------------------------------------------------------------\u001b[0m",
      "\u001b[0;31mKeyError\u001b[0m                                  Traceback (most recent call last)",
      "\u001b[0;32m<ipython-input-28-83c15628c775>\u001b[0m in \u001b[0;36m<module>\u001b[0;34m\u001b[0m\n\u001b[1;32m      2\u001b[0m \u001b[0minvestigate\u001b[0m \u001b[0;34m=\u001b[0m \u001b[0;34m\"Number Of Verif. Phases\"\u001b[0m\u001b[0;34m\u001b[0m\u001b[0;34m\u001b[0m\u001b[0m\n\u001b[1;32m      3\u001b[0m \u001b[0mmin_actions\u001b[0m \u001b[0;34m=\u001b[0m \u001b[0;36m0\u001b[0m\u001b[0;31m#np.array(data[investigate]).min()\u001b[0m\u001b[0;34m\u001b[0m\u001b[0;34m\u001b[0m\u001b[0m\n\u001b[0;32m----> 4\u001b[0;31m \u001b[0mmax_actions\u001b[0m \u001b[0;34m=\u001b[0m \u001b[0mnp\u001b[0m\u001b[0;34m.\u001b[0m\u001b[0marray\u001b[0m\u001b[0;34m(\u001b[0m\u001b[0mdata\u001b[0m\u001b[0;34m[\u001b[0m\u001b[0minvestigate\u001b[0m\u001b[0;34m]\u001b[0m\u001b[0;34m)\u001b[0m\u001b[0;34m.\u001b[0m\u001b[0mmax\u001b[0m\u001b[0;34m(\u001b[0m\u001b[0;34m)\u001b[0m\u001b[0;34m\u001b[0m\u001b[0;34m\u001b[0m\u001b[0m\n\u001b[0m\u001b[1;32m      5\u001b[0m \u001b[0mprint\u001b[0m\u001b[0;34m(\u001b[0m\u001b[0mmin_actions\u001b[0m\u001b[0;34m)\u001b[0m\u001b[0;34m\u001b[0m\u001b[0;34m\u001b[0m\u001b[0m\n\u001b[1;32m      6\u001b[0m \u001b[0mprint\u001b[0m\u001b[0;34m(\u001b[0m\u001b[0mmax_actions\u001b[0m\u001b[0;34m)\u001b[0m\u001b[0;34m\u001b[0m\u001b[0;34m\u001b[0m\u001b[0m\n",
      "\u001b[0;31mKeyError\u001b[0m: 'Number Of Verif. Phases'"
     ]
    }
   ],
   "source": [
    "# DELETE THIS CELL AFTER TACAS\n",
    "investigate = \"Number Of Verif. Phases\"\n",
    "min_actions = 0#np.array(data[investigate]).min()\n",
    "max_actions = np.array(data[investigate]).max()\n",
    "print(min_actions)\n",
    "print(max_actions)\n",
    "scatter_coloring = []\n",
    "\n",
    "for i in range(len(data[investigate])):\n",
    "    if (data[investigate][i] == 0):\n",
    "        percent = 1\n",
    "    else:    \n",
    "        percent = (data[investigate][i] - min_actions) / (max_actions - min_actions)\n",
    "        if (data[investigate][i] == 2):\n",
    "            percent += 0.25\n",
    "    scatter_coloring.append(percent)\n",
    "    print(data[investigate][i])\n",
    "    print(percent)\n",
    "\n",
    "\"\"\"\n",
    "for i in range(len(data[investigate])):\n",
    "    percent = (data[investigate][i] - min_actions) / (max_actions - min_actions)\n",
    "    if (data[investigate][i] >= 3.25 and data[investigate][i] <= 9):\n",
    "        percent += 0.5#0.1*data[investigate][i]\n",
    "    scatter_coloring.append(percent)\n",
    "    print(data[investigate][i])\n",
    "    print(percent)\n",
    "\"\"\""
   ]
  },
  {
   "cell_type": "code",
   "execution_count": 29,
   "metadata": {},
   "outputs": [
    {
     "ename": "NameError",
     "evalue": "name 'scatter_coloring' is not defined",
     "output_type": "error",
     "traceback": [
      "\u001b[0;31m---------------------------------------------------------------------------\u001b[0m",
      "\u001b[0;31mNameError\u001b[0m                                 Traceback (most recent call last)",
      "\u001b[0;32m<ipython-input-29-403c98aa7bcc>\u001b[0m in \u001b[0;36m<module>\u001b[0;34m\u001b[0m\n\u001b[1;32m     35\u001b[0m \u001b[0;34m\u001b[0m\u001b[0m\n\u001b[1;32m     36\u001b[0m \u001b[0mfig\u001b[0m\u001b[0;34m,\u001b[0m \u001b[0max\u001b[0m \u001b[0;34m=\u001b[0m \u001b[0mplt\u001b[0m\u001b[0;34m.\u001b[0m\u001b[0msubplots\u001b[0m\u001b[0;34m(\u001b[0m\u001b[0mfigsize\u001b[0m\u001b[0;34m=\u001b[0m\u001b[0;34m(\u001b[0m\u001b[0;36m10\u001b[0m\u001b[0;34m,\u001b[0m\u001b[0;36m6\u001b[0m\u001b[0;34m)\u001b[0m\u001b[0;34m)\u001b[0m\u001b[0;34m\u001b[0m\u001b[0;34m\u001b[0m\u001b[0m\n\u001b[0;32m---> 37\u001b[0;31m \u001b[0max\u001b[0m\u001b[0;34m.\u001b[0m\u001b[0mscatter\u001b[0m\u001b[0;34m(\u001b[0m\u001b[0mdata_for_x\u001b[0m\u001b[0;34m,\u001b[0m \u001b[0mdata_for_y\u001b[0m\u001b[0;34m,\u001b[0m \u001b[0mc\u001b[0m \u001b[0;34m=\u001b[0m \u001b[0mscatter_coloring\u001b[0m\u001b[0;34m,\u001b[0m \u001b[0mcmap\u001b[0m\u001b[0;34m=\u001b[0m\u001b[0mplt\u001b[0m\u001b[0;34m.\u001b[0m\u001b[0mget_cmap\u001b[0m\u001b[0;34m(\u001b[0m\u001b[0;34m\"viridis\"\u001b[0m\u001b[0;34m)\u001b[0m\u001b[0;34m,\u001b[0m \u001b[0malpha\u001b[0m \u001b[0;34m=\u001b[0m \u001b[0;36m0.75\u001b[0m\u001b[0;34m)\u001b[0m\u001b[0;34m\u001b[0m\u001b[0;34m\u001b[0m\u001b[0m\n\u001b[0m\u001b[1;32m     38\u001b[0m \u001b[0;34m\u001b[0m\u001b[0m\n\u001b[1;32m     39\u001b[0m \u001b[0mlabel_prios\u001b[0m \u001b[0;34m=\u001b[0m \u001b[0mdict\u001b[0m\u001b[0;34m(\u001b[0m\u001b[0;34m)\u001b[0m\u001b[0;34m\u001b[0m\u001b[0;34m\u001b[0m\u001b[0m\n",
      "\u001b[0;31mNameError\u001b[0m: name 'scatter_coloring' is not defined"
     ]
    },
    {
     "data": {
      "image/png": "[encoded data removed]",
      "text/plain": [
       "<Figure size 720x432 with 1 Axes>"
      ]
     },
     "metadata": {
      "needs_background": "light"
     },
     "output_type": "display_data"
    }
   ],
   "source": [
    "#Use scale that doubles itself (as in OVI paper)\n",
    "algo_on_x = \"OVI\"\n",
    "algo_on_y = \"BVI\"\n",
    "\n",
    "#Transform Data\n",
    "data_for_x = data[algo_on_x].copy()\n",
    "data_for_y = data[algo_on_y].copy()\n",
    "\n",
    "axis_limits = [\n",
    "    10**0 if (not USE_ITERS) else 1,\n",
    "    950 if (not USE_ITERS) else 10**5\n",
    "]\n",
    "\n",
    "ticks = []\n",
    "ticklabels = []\n",
    "for i in range(0, 3 if not USE_ITERS else 6):\n",
    "    ticks.append(10**i)\n",
    "    ticklabels.append(str(10**i)+\"s\")\n",
    "#ticks.append(100)\n",
    "ticks = [1, 10, 100, 950]\n",
    "ticklabels = [1, 10, 100, 950]\n",
    "ticklabels[-1] = (\"Timeout / Error\")\n",
    "\n",
    "for i in range(len(data_for_x)):\n",
    "    if (data_for_x[i] > axis_limits[1]):\n",
    "        data_for_x[i] = axis_limits[1]\n",
    "    #if (data_for_x[i] < axis_limits[0]):\n",
    "    #    data_for_x[i] = axis_limits[0]\n",
    "\n",
    "for i in range(len(data_for_y)):\n",
    "    if (data_for_y[i] > axis_limits[1]):\n",
    "        data_for_y[i] = axis_limits[1]\n",
    "    #if (data_for_y[i] < axis_limits[0]):\n",
    "    #    data_for_y[i] = axis_limits[0]\n",
    "\n",
    "fig, ax = plt.subplots(figsize=(10,6))\n",
    "ax.scatter(data_for_x, data_for_y, c = scatter_coloring, cmap=plt.get_cmap(\"viridis\"), alpha = 0.75)\n",
    "\n",
    "label_prios = dict()\n",
    "label_prios[\">=8 / Timeout\"] = 1\n",
    "label_prios[\"2 - 7\"] = 2\n",
    "label_prios[\"1\"] = 3\n",
    "\n",
    "ax.scatter([0.1], [0.1], c = [\"#d0e023\"], label=\">=8 / Timeout\")\n",
    "ax.scatter([0.1], [0.1], c = [\"#299086\"], label=\"2 - 7\")\n",
    "ax.scatter([0.1], [0.1], c = [\"#451d6c\"], label=\"1\")\n",
    "\n",
    "\n",
    "ax.plot(axis_limits, axis_limits, 'k-', alpha=0.75, zorder=0)\n",
    "ax.plot(list(map(lambda x : x * 2, axis_limits)), axis_limits, 'k-', alpha=0.75, zorder=0, linewidth = 0.5)\n",
    "ax.plot(list(map(lambda x : x / 2, axis_limits)), axis_limits, 'k-', alpha=0.75, zorder=0, linewidth = 0.5)\n",
    "ax.set_aspect('equal')\n",
    "ax.set_xlabel(label_mapping[algo_on_x])\n",
    "ax.set_ylabel(label_mapping[algo_on_y])\n",
    "ax.set_xlim(axis_limits)\n",
    "ax.set_ylim(axis_limits)\n",
    "ax.set_yscale('log')\n",
    "ax.set_xscale('log')\n",
    "\n",
    "ax.set_xticks(ticks)\n",
    "ax.set_xticklabels(ticklabels)\n",
    "ax.set_yticks(ticks)\n",
    "ax.set_yticklabels(ticklabels)\n",
    "\n",
    "handles, labels = ax.get_legend_handles_labels()\n",
    "# sort both labels and handles by labels\n",
    "labels, handles = zip(*sorted(zip(labels, handles), key=lambda t: label_prios[t[0]]))\n",
    "#print(labels)\n",
    "#print(handles)\n",
    "ax.legend(handles, labels, loc='center left', bbox_to_anchor=(1, 0.5), fontsize = 14)"
   ]
  },
  {
   "cell_type": "markdown",
   "metadata": {},
   "source": [
    "#### Vanilla vs Optim Scatters"
   ]
  },
  {
   "cell_type": "code",
   "execution_count": 30,
   "metadata": {
    "scrolled": false
   },
   "outputs": [
    {
     "name": "stderr",
     "output_type": "stream",
     "text": [
      "No handles with labels found to put in legend.\n"
     ]
    },
    {
     "name": "stdout",
     "output_type": "stream",
     "text": [
      "T_BVI not in Data - have you included it in the notebook and in the benchmarks?\n",
      "T_OVI not in Data - have you included it in the notebook and in the benchmarks?\n"
     ]
    },
    {
     "data": {
      "image/png": "[encoded data removed]",
      "text/plain": [
       "<Figure size 720x720 with 1 Axes>"
      ]
     },
     "metadata": {
      "needs_background": "light"
     },
     "output_type": "display_data"
    }
   ],
   "source": [
    "base_algos = [\"BVI\", \"OVI\"]\n",
    "extensions = [\n",
    "    #\"D\", \n",
    "    #\"G\", \n",
    "    #\"TOP\", \n",
    "    \"T\", \n",
    "    #\"OPT\"\n",
    "]\n",
    "axis_limits = [\n",
    "    10**-2 if (not USE_ITERS) else 1,\n",
    "    10**3 if (not USE_ITERS) else 10**5\n",
    "]\n",
    "\n",
    "ticks = []\n",
    "ticklabels = []\n",
    "for i in range(-2, 3 if not USE_ITERS else 6):\n",
    "    ticks.append(10**i)\n",
    "    ticklabels.append(str(10**i)+\"s\")\n",
    "ticks.append(PENTALY_FOR_NOT_FINISHING)\n",
    "ticklabels.append(\"Timeout / Error\")\n",
    "#ticklabels[-1] = \"Timeout / Error\"\n",
    "\n",
    "algo_to_marker = dict()\n",
    "algo_to_marker[\"BVI\"] = \"X\"\n",
    "algo_to_marker[\"SVI\"] = \"^\"\n",
    "algo_to_marker[\"OVI\"] = \"s\"\n",
    "\n",
    "market_to_size = dict()\n",
    "\n",
    "\n",
    "\n",
    "for extension in extensions:\n",
    "    fig, ax = plt.subplots(figsize=(10,10))\n",
    "    for base_algo in base_algos:\n",
    "        optim_algo = extension+\"_\"+base_algo\n",
    "        if (optim_algo not in data):\n",
    "            print(\"%s not in Data - have you included it in the notebook and in the benchmarks?\" % optim_algo)\n",
    "            continue\n",
    "\n",
    "        data_for_x = data[base_algo].copy()\n",
    "        data_for_y = data[optim_algo].copy()\n",
    "\n",
    "        for i in range(len(data_for_x)):\n",
    "            if (data_for_x[i] > axis_limits[1]):\n",
    "                data_for_x[i] = axis_limits[1]\n",
    "\n",
    "        for i in range(len(data_for_y)):\n",
    "            if (data_for_y[i] > axis_limits[1]):\n",
    "                data_for_y[i] = axis_limits[1]\n",
    "\n",
    "        ax.scatter(data_for_x, data_for_y, label=(\"%s / %s\" % (base_algo, optim_algo)), alpha = 0.7, marker=algo_to_marker[base_algo])\n",
    "\n",
    "    \n",
    "    ax.plot(axis_limits, axis_limits, 'k-', alpha=0.75, zorder=0, linewidth = 0.5)\n",
    "    ax.plot(list(map(lambda x : x * 2, axis_limits)), axis_limits, 'k-', alpha=0.25, zorder=0, linewidth = 0.5)\n",
    "    ax.plot(list(map(lambda x : x / 2, axis_limits)), axis_limits, 'k-', alpha=0.25, zorder=0, linewidth = 0.5)\n",
    "    ax.set_aspect('equal')\n",
    "    ax.set_xlabel(\"Vanilla Version\")\n",
    "    ax.set_ylabel(\"Optimized Version\")\n",
    "    \n",
    "    ax.set_xlim(axis_limits)\n",
    "    ax.set_ylim(axis_limits) \n",
    "    ax.set_yscale('log')\n",
    "    ax.set_xscale('log')\n",
    "    \n",
    "    ax.set_xticks(ticks)\n",
    "    ax.set_xticklabels(ticklabels)\n",
    "    ax.set_yticks(ticks)\n",
    "    ax.set_yticklabels(ticklabels)\n",
    "    \n",
    "    plt.legend(loc='center left', bbox_to_anchor=(1, 0.5), fontsize = 14)\n"
   ]
  },
  {
   "cell_type": "markdown",
   "metadata": {},
   "source": [
    "#### One Algorithm against others"
   ]
  },
  {
   "cell_type": "code",
   "execution_count": 31,
   "metadata": {},
   "outputs": [
    {
     "data": {
      "image/png": "[encoded data removed]",
      "text/plain": [
       "<Figure size 720x720 with 1 Axes>"
      ]
     },
     "metadata": {
      "needs_background": "light"
     },
     "output_type": "display_data"
    }
   ],
   "source": [
    "bottom_algos = [\"SVI\"]\n",
    "against_algos = [\"BVI\", \"OVI\"]\n",
    "\n",
    "axis_limits = [\n",
    "    10**0 if (not USE_ITERS) else 1,\n",
    "    10**3 if (not USE_ITERS) else 10**5\n",
    "]\n",
    "\n",
    "ticks = []\n",
    "ticklabels = []\n",
    "for i in range(0, 3 if not USE_ITERS else 6):\n",
    "    ticks.append(10**i)\n",
    "    ticklabels.append(str(10**i)+\"\")\n",
    "#ticks.append(PENTALY_FOR_NOT_FINISHING)\n",
    "#ticklabels.append(\"Timeout / Error\")\n",
    "ticklabels[-1] = \"Timeout / Error\"\n",
    "\n",
    "algo_to_marker = dict()\n",
    "algo_to_marker[\"BVI\"] = \"X\"\n",
    "algo_to_marker[\"SVI\"] = \"^\"\n",
    "algo_to_marker[\"OVI\"] = \"s\"\n",
    "algo_to_marker[\"T_LP_SI\"] = \"X\"\n",
    "algo_to_marker[\"T_SI_SI\"] = \"^\"\n",
    "\n",
    "market_to_size = dict()\n",
    "\n",
    "def list_to_string(l):\n",
    "    x = \"\"\n",
    "    for i in l:\n",
    "        x+=str(i)+\", \"\n",
    "    x = x[0:-2]\n",
    "    return x\n",
    "\n",
    "for bottom_algo in bottom_algos:\n",
    "    fig, ax = plt.subplots(figsize=(10,10))\n",
    "    for against_algo in against_algos:\n",
    "        if (against_algo not in data):\n",
    "            print(\"%s is not in Data? \" % against_algo)\n",
    "        if (bottom_algo not in data):\n",
    "            print(\"%s is not in Data? \" % bottom_algo)\n",
    "\n",
    "        data_for_x = data[bottom_algo].copy()\n",
    "        data_for_y = data[against_algo].copy()\n",
    "\n",
    "        for i in range(len(data_for_x)):\n",
    "            if (data_for_x[i] > axis_limits[1]):\n",
    "                data_for_x[i] = axis_limits[1]\n",
    "\n",
    "        for i in range(len(data_for_y)):\n",
    "            if (data_for_y[i] > axis_limits[1]):\n",
    "                data_for_y[i] = axis_limits[1]\n",
    "\n",
    "        ax.scatter(data_for_x, data_for_y, label=(\"%s / %s\" % (bottom_algo, against_algo)), alpha = 0.7, marker=algo_to_marker[against_algo])\n",
    "\n",
    "    ax.plot(axis_limits, axis_limits, 'k-', alpha=0.75, zorder=0, linewidth = 0.5)\n",
    "    ax.plot(list(map(lambda x : x * 2, axis_limits)), axis_limits, 'k-', alpha=0.25, zorder=0, linewidth = 0.5)\n",
    "    ax.plot(list(map(lambda x : x / 2, axis_limits)), axis_limits, 'k-', alpha=0.25, zorder=0, linewidth = 0.5)\n",
    "    ax.set_aspect('equal')\n",
    "    ax.set_xlabel(bottom_algo)\n",
    "    ax.set_ylabel(list_to_string(against_algos))\n",
    "    \n",
    "    ax.set_xlim(axis_limits)\n",
    "    ax.set_ylim(axis_limits) \n",
    "    ax.set_yscale('log')\n",
    "    ax.set_xscale('log')\n",
    "    \n",
    "    ax.set_xticks(ticks)\n",
    "    ax.set_xticklabels(ticklabels)\n",
    "    ax.set_yticks(ticks)\n",
    "    ax.set_yticklabels(ticklabels)\n",
    "    \n",
    "    plt.legend(loc='center left', bbox_to_anchor=(1, 0.5), fontsize = 14)"
   ]
  },
  {
   "cell_type": "markdown",
   "metadata": {},
   "source": [
    "# Tell me more about the models where ..."
   ]
  },
  {
   "cell_type": "code",
   "execution_count": 32,
   "metadata": {},
   "outputs": [
    {
     "name": "stdout",
     "output_type": "stream",
     "text": [
      "[]\n",
      "[]\n"
     ]
    }
   ],
   "source": [
    "#DELETE THIS CELL AFTER TACAS\n",
    "random_model_indices = []\n",
    "non_random_model_indices = []\n",
    "for i in range(len(data['NumStates'])):\n",
    "    model = model_names[i]\n",
    "    \n",
    "    if (\"RANDOM\" in model):\n",
    "        random_model_indices.append(i)\n",
    "    else:\n",
    "        non_random_model_indices.append(i)\n",
    "        \n",
    "print(non_random_model_indices)\n",
    "print(list(map(lambda x : model_names[x], non_random_model_indices)))"
   ]
  },
  {
   "cell_type": "code",
   "execution_count": 33,
   "metadata": {},
   "outputs": [],
   "source": [
    "# Define comparation functions\n",
    "def compare_two_confs(conf_a, conf_b, remove_where_function_is_true):\n",
    "    model_indices = []\n",
    "    for i in range(len(data['NumStates'])):\n",
    "        model = model_names[i]\n",
    "\n",
    "        model_is_interesting = True\n",
    "        for f in remove_where_function_is_true:\n",
    "            if (f(data[conf_a][i], data[conf_b][i])):\n",
    "                model_is_interesting = False\n",
    "                break \n",
    "        if not model_is_interesting:\n",
    "            continue\n",
    "        \n",
    "        model_indices.append(i)\n",
    "    return model_indices "
   ]
  },
  {
   "cell_type": "code",
   "execution_count": 34,
   "metadata": {},
   "outputs": [],
   "source": [
    "# Define evaluation\n",
    "def evaluate_conf_comparison(conf_a, conf_b, filtered_indices, interesting_props):\n",
    "    for index in filtered_indices:\n",
    "        model_name = model_names[index]\n",
    "        print(\"Model: %s\" % model_name)\n",
    "        print(\"%s: %f\" % (conf_a, data[conf_a][index]))\n",
    "        print(\"%s: %f\" % (conf_b, data[conf_b][index]))\n",
    "\n",
    "        for prop_key in interesting_props:\n",
    "            print(\"%s: %f\" % (prop_key, data[prop_key][index]))"
   ]
  },
  {
   "cell_type": "code",
   "execution_count": 35,
   "metadata": {},
   "outputs": [],
   "source": [
    "# Define filters\n",
    "remove_where = [\n",
    "    lambda x,y : y >= 5 * x\n",
    "]"
   ]
  },
  {
   "cell_type": "code",
   "execution_count": 36,
   "metadata": {},
   "outputs": [],
   "source": [
    "interesting_props = [\n",
    "    \"NumMaxActions\",\n",
    "    \"AvgNumActionsPerState\"\n",
    "]\n",
    "interesting_props = property_keys\n",
    "\n",
    "\n",
    "exclude_props = [\n",
    "    \"NumSinks\",\n",
    "    \"NumTargets\",\n",
    "    \n",
    "]"
   ]
  },
  {
   "cell_type": "code",
   "execution_count": 37,
   "metadata": {},
   "outputs": [
    {
     "name": "stdout",
     "output_type": "stream",
     "text": [
      "0\n",
      "0\n",
      "0\n",
      "['NumStates', 'NumActions', 'NumTargets', 'NumSinks', 'NumUnknown', 'NumMaxActions', 'NumMaxTransitions', 'SmallestTransProb', 'NumProbActions', 'NumMECs', 'BiggestMEC', 'SmallestMEC', 'AvgMEC', 'MedianMEC', 'NumSCCs', 'BiggestSCC', 'AvgSCC', 'NearestTarget', 'FurthestTarget', 'AvgNumActionsPerState', 'AvgNumTransPerState', 'AvgNumTransPerAction', 'NumMaxStates', 'NumMinStates', 'NumBackwardsTransitions']\n"
     ]
    }
   ],
   "source": [
    "# Get Results\n",
    "conf_a = \"T_LP_SI\"\n",
    "conf_b = \"LP_SI\"\n",
    "event_a = compare_two_confs(conf_a, conf_b, [lambda x,y : x < 5 * y])\n",
    "counter_event_a = compare_two_confs(conf_a, conf_b, [lambda x,y : y >= 5 * x])\n",
    "mirror_event_a = compare_two_confs(conf_a, conf_b, [lambda x,y : y < 5 * x])\n",
    "print(len(event_a))\n",
    "print(len(mirror_event_a))\n",
    "print(len(counter_event_a))\n",
    "evaluate_conf_comparison(conf_a, conf_b, event_a, [])\n",
    "\n",
    "#interesting_props = [\"BiggestSCC\", \"BiggestMEC\"]\n",
    "evaluate_conf_comparison(conf_a, conf_b, event_a, interesting_props)\n",
    "print(interesting_props)\n"
   ]
  },
  {
   "cell_type": "code",
   "execution_count": 38,
   "metadata": {},
   "outputs": [],
   "source": [
    "def oneDimensionPropertyScatterPlot(property_keys, a_indices, b_indices):\n",
    "    entries_per_column = 1\n",
    "    entries_per_row = len(property_keys)\n",
    "    fix, axs = plt.subplots(entries_per_row, entries_per_column, figsize=(12,20), constrained_layout = True)\n",
    "    row = 0\n",
    "    column = 0\n",
    "    \n",
    "    for property_key in property_keys:\n",
    "        data_for_a = []\n",
    "        data_for_b = []\n",
    "        for i in a_indices:\n",
    "            data_for_a.append(data[property_key][i])\n",
    "        for i in b_indices:\n",
    "            data_for_b.append(data[property_key][i])\n",
    "            \n",
    "        ALPHA_A = 10/len(data_for_a)\n",
    "        #ALPHA_A = 0.5\n",
    "        \n",
    "        \n",
    "        ALPHA_B = 3/len(data_for_b)\n",
    "        #ALPHA_B = 0.5\n",
    "        \n",
    "        axs[row].scatter(data_for_a, [1]*len(data_for_a), alpha=ALPHA_A, c='red')\n",
    "        axs[row].scatter(data_for_b, [-1]*len(data_for_b), alpha=ALPHA_B, c='green')\n",
    "        axs[row].scatter([data_for_a[0], data_for_a[0]], [-3, 3], alpha=0.001) # Set Axis limits\n",
    "        axs[row].set_xlabel(property_key)\n",
    "        row+=1"
   ]
  },
  {
   "cell_type": "code",
   "execution_count": 39,
   "metadata": {},
   "outputs": [
    {
     "name": "stdout",
     "output_type": "stream",
     "text": [
      "RED: RANDOM, GREEN: REAL\n",
      "['NumStates', 'NumActions', 'NumTargets', 'NumSinks', 'NumUnknown', 'NumMaxActions', 'NumMaxTransitions', 'SmallestTransProb', 'NumProbActions', 'NumMECs', 'BiggestMEC', 'SmallestMEC', 'AvgMEC', 'MedianMEC', 'NumSCCs', 'BiggestSCC', 'AvgSCC', 'NearestTarget', 'FurthestTarget', 'AvgNumActionsPerState', 'AvgNumTransPerState', 'AvgNumTransPerAction', 'NumMaxStates', 'NumMinStates', 'NumBackwardsTransitions']\n"
     ]
    },
    {
     "ename": "ZeroDivisionError",
     "evalue": "division by zero",
     "output_type": "error",
     "traceback": [
      "\u001b[0;31m---------------------------------------------------------------------------\u001b[0m",
      "\u001b[0;31mZeroDivisionError\u001b[0m                         Traceback (most recent call last)",
      "\u001b[0;32m<ipython-input-39-dc68cec3045f>\u001b[0m in \u001b[0;36m<module>\u001b[0;34m\u001b[0m\n\u001b[1;32m      5\u001b[0m \u001b[0;34m\u001b[0m\u001b[0m\n\u001b[1;32m      6\u001b[0m \u001b[0;34m\u001b[0m\u001b[0m\n\u001b[0;32m----> 7\u001b[0;31m \u001b[0moneDimensionPropertyScatterPlot\u001b[0m\u001b[0;34m(\u001b[0m\u001b[0minteresting_props\u001b[0m\u001b[0;34m,\u001b[0m \u001b[0mrandom_model_indices\u001b[0m\u001b[0;34m,\u001b[0m \u001b[0mnon_random_model_indices\u001b[0m\u001b[0;34m)\u001b[0m\u001b[0;34m\u001b[0m\u001b[0;34m\u001b[0m\u001b[0m\n\u001b[0m",
      "\u001b[0;32m<ipython-input-38-abb6feb3e414>\u001b[0m in \u001b[0;36moneDimensionPropertyScatterPlot\u001b[0;34m(property_keys, a_indices, b_indices)\u001b[0m\n\u001b[1;32m     14\u001b[0m             \u001b[0mdata_for_b\u001b[0m\u001b[0;34m.\u001b[0m\u001b[0mappend\u001b[0m\u001b[0;34m(\u001b[0m\u001b[0mdata\u001b[0m\u001b[0;34m[\u001b[0m\u001b[0mproperty_key\u001b[0m\u001b[0;34m]\u001b[0m\u001b[0;34m[\u001b[0m\u001b[0mi\u001b[0m\u001b[0;34m]\u001b[0m\u001b[0;34m)\u001b[0m\u001b[0;34m\u001b[0m\u001b[0;34m\u001b[0m\u001b[0m\n\u001b[1;32m     15\u001b[0m \u001b[0;34m\u001b[0m\u001b[0m\n\u001b[0;32m---> 16\u001b[0;31m         \u001b[0mALPHA_A\u001b[0m \u001b[0;34m=\u001b[0m \u001b[0;36m10\u001b[0m\u001b[0;34m/\u001b[0m\u001b[0mlen\u001b[0m\u001b[0;34m(\u001b[0m\u001b[0mdata_for_a\u001b[0m\u001b[0;34m)\u001b[0m\u001b[0;34m\u001b[0m\u001b[0;34m\u001b[0m\u001b[0m\n\u001b[0m\u001b[1;32m     17\u001b[0m         \u001b[0;31m#ALPHA_A = 0.5\u001b[0m\u001b[0;34m\u001b[0m\u001b[0;34m\u001b[0m\u001b[0;34m\u001b[0m\u001b[0m\n\u001b[1;32m     18\u001b[0m \u001b[0;34m\u001b[0m\u001b[0m\n",
      "\u001b[0;31mZeroDivisionError\u001b[0m: division by zero"
     ]
    },
    {
     "data": {
      "image/png": "[encoded data removed]",
      "text/plain": [
       "<Figure size 864x1440 with 25 Axes>"
      ]
     },
     "metadata": {
      "needs_background": "light"
     },
     "output_type": "display_data"
    }
   ],
   "source": [
    "#print(\"RED: %s\" % conf_a)\n",
    "#print(\"GREEN: %s\" % conf_b)\n",
    "print(\"RED: RANDOM, GREEN: REAL\")\n",
    "print(interesting_props)\n",
    "\n",
    "\n",
    "oneDimensionPropertyScatterPlot(interesting_props, random_model_indices, non_random_model_indices)"
   ]
  },
  {
   "cell_type": "markdown",
   "metadata": {},
   "source": [
    "### Interpret the graph"
   ]
  },
  {
   "cell_type": "code",
   "execution_count": null,
   "metadata": {},
   "outputs": [],
   "source": [
    "print(len(model_names))\n",
    "print(len(data[\"NumStates\"]))"
   ]
  },
  {
   "cell_type": "code",
   "execution_count": null,
   "metadata": {},
   "outputs": [],
   "source": [
    "#Get names of models above certain threshold\n",
    "\n",
    "absolute_allowed_timedifference_in_seconds = 2\n",
    "relative_allowed_timedifference = 0.1 # 0.1 -> 10% allowed difference\n",
    "USE_RELATIVE_ERROR = True\n",
    "\n",
    "confs_to_compare = config_keys\n",
    "#confs_to_compare = [\"OVI_1\", \"OVI_100\"]\n",
    "\n",
    "fastest_solver = dict()\n",
    "for index in range(len(data[\"NumStates\"])):\n",
    "    model = model_names[index]\n",
    "    print(\"MODEL: %s\" % model)\n",
    "    fastest_solver[model] = [10000000, []]\n",
    "    for key in confs_to_compare:\n",
    "        soln_time = data[key][index]\n",
    "        print(\"Conf %s soln time %f\" % (key, soln_time))\n",
    "        if (soln_time != PENTALY_FOR_NOT_FINISHING):\n",
    "            #print(\"This is better than NOT FINISHING\")\n",
    "            if (fastest_solver[model][0] > soln_time):\n",
    "                # Check which of the currently saved models are in the allowed precision\n",
    "                new_soln_time = fastest_solver[model][0]\n",
    "                fastest_solvers_for_model = [key]\n",
    "                for old_key in fastest_solver[model][1]:\n",
    "                    old_soln_time = data[old_key][index]\n",
    "                    # Do comparison\n",
    "                    include_old_key = False\n",
    "                    \n",
    "                    USE_RELATIVE_ERROR = new_soln_time > 10\n",
    "                    \n",
    "                    if (USE_RELATIVE_ERROR):\n",
    "                        include_old_key = (1.0 - relative_allowed_timedifference) * new_soln_time <= old_soln_time\n",
    "                    else:\n",
    "                        include_old_key = abs(new_soln_time - old_soln_time) <= absolute_allowed_timedifference_in_seconds\n",
    "                    \n",
    "                    if (include_old_key):\n",
    "                        fastest_solvers_for_model.append(old_key)\n",
    "                \n",
    "                fastest_solver[model] = [soln_time, fastest_solvers_for_model]\n",
    "                \n",
    "            elif (fastest_solver[model][0] == soln_time):\n",
    "                fastest_solver[model][1].append(key)"
   ]
  },
  {
   "cell_type": "code",
   "execution_count": null,
   "metadata": {},
   "outputs": [],
   "source": [
    "bestSolvers = dict()\n",
    "for config_key in confs_to_compare:\n",
    "    bestSolvers[config_key] = 0\n",
    "\n",
    "for index in range(len(data[\"NumStates\"])):\n",
    "    model_name = model_names[index]\n",
    "    for config_key in fastest_solver[model_name][1]:\n",
    "        bestSolvers[config_key]+=1\n",
    "\n",
    "for config_key in confs_to_compare:\n",
    "    print(\"Config %s was the best solution method %d / %d times\" % (config_key, bestSolvers[config_key], len(table_times)))"
   ]
  },
  {
   "cell_type": "code",
   "execution_count": null,
   "metadata": {},
   "outputs": [],
   "source": [
    "#If you want to know which Models a Conf won, use this:\n",
    "check_conf = \"TBBVI_100\"\n",
    "explicit = True\n",
    "\n",
    "for index in range(len(data[\"NumStates\"])):\n",
    "    model = model_names[index]\n",
    "    if check_conf in fastest_solver[model][1]:\n",
    "        print(model)\n",
    "        if explicit:\n",
    "            props = findModelWithNameInTable(table_properties, model)\n",
    "            #print(props[\"NumSCCs\"])\n",
    "            for prop in props:\n",
    "                print(prop,\" : \", props[prop])"
   ]
  },
  {
   "cell_type": "markdown",
   "metadata": {},
   "source": [
    "# Do classic Data Mining stuff"
   ]
  },
  {
   "cell_type": "markdown",
   "metadata": {},
   "source": [
    "## Heatmaps"
   ]
  },
  {
   "cell_type": "code",
   "execution_count": null,
   "metadata": {},
   "outputs": [],
   "source": [
    "excluded_features = [\n",
    "    #\"NumTargets\",\n",
    "    #\"SmallestTransProb\"\n",
    "]\n",
    "\n",
    "correlation_dict = dict(data)\n",
    "\n",
    "for feature in excluded_features:\n",
    "    del correlation_dict[feature]\n",
    "\n",
    "size = len(analysis_keys) - len(excluded_features) + len(config_keys)\n",
    "print(size)"
   ]
  },
  {
   "cell_type": "code",
   "execution_count": null,
   "metadata": {},
   "outputs": [],
   "source": [
    "#Linear Correlation\n",
    "fig = plt.figure(figsize=(size,size))\n",
    "\n",
    "df = pd.DataFrame(correlation_dict,columns=correlation_dict.keys())\n",
    "\n",
    "corrMatrix = df.corr()\n",
    "sn.heatmap(corrMatrix, annot=True)\n",
    "plt.show()\n"
   ]
  },
  {
   "cell_type": "markdown",
   "metadata": {},
   "source": [
    "## Scatter Plots"
   ]
  },
  {
   "cell_type": "code",
   "execution_count": null,
   "metadata": {},
   "outputs": [],
   "source": [
    "#Scatterplot\n",
    "def createScatterPlotForOneProperty(property_key):\n",
    "    entries_per_column = int(math.sqrt(len(config_keys))+1)\n",
    "    entries_per_row = entries_per_column\n",
    "    fix, axs = plt.subplots(entries_per_row, entries_per_column, figsize=(16,16), sharey=True)\n",
    "    row = 0\n",
    "    column = 0\n",
    "    for key in config_keys:\n",
    "        if (column == entries_per_column):\n",
    "            row += 1\n",
    "            column = 0\n",
    "        axs[row, column].scatter(data[property_key], data[key])\n",
    "        axs[row, column].set_xlabel(property_key),\n",
    "        axs[row, column].set_ylabel(key)\n",
    "        column+=1\n",
    "\n",
    "def createScatterPlotForOneConfig(property_keys):\n",
    "    entries_per_column = 1    \n",
    "    entries_per_row = len(property_keys)\n",
    "    fix, axs = plt.subplots(entries_per_row, entries_per_column, figsize=(12,12), constrained_layout=True)\n",
    "    row = 0\n",
    "    column = 0\n",
    "    for property_key in property_keys:\n",
    "        for key in config_keys:\n",
    "            if (column == entries_per_column):\n",
    "                row += 1\n",
    "                column = 0\n",
    "            axs[row].scatter(data[property_key], data[key])\n",
    "            axs[row].set_xlabel(property_key),\n",
    "            axs[row].set_ylabel(key)\n",
    "            column+=1\n",
    "\n",
    "def createScatterPlotForMultipleProperties(property_keys):\n",
    "    entries_per_column = len(config_keys)\n",
    "    entries_per_row = len(property_keys)\n",
    "    fix, axs = plt.subplots(entries_per_row, entries_per_column, figsize=(12,20), constrained_layout=True)\n",
    "    row = 0\n",
    "    column = 0\n",
    "    for property_key in property_keys:\n",
    "        for key in config_keys:\n",
    "            if (column == entries_per_column):\n",
    "                row += 1\n",
    "                column = 0\n",
    "            if (USE_LABELS):\n",
    "                axs[row, column].scatter(data[property_key], data[key], alpha=0.5, c=pandas_labels.map(coloring))\n",
    "            else:\n",
    "                axs[row, column].scatter(data[property_key], data[key], alpha=0.2)\n",
    "            axs[row, column].set_xlabel(property_key),\n",
    "            axs[row, column].set_ylabel(key)\n",
    "            column+=1\n",
    "\n",
    "def createHistPlotForMultipleProperties(property_keys):\n",
    "    entries_per_column = len(config_keys)\n",
    "    entries_per_row = len(property_keys)\n",
    "    fix, axs = plt.subplots(entries_per_row, entries_per_column, figsize=(12,12), constrained_layout=True)\n",
    "    row = 0\n",
    "    column = 0\n",
    "    for property_key in property_keys:\n",
    "        for key in config_keys:\n",
    "            if (column == entries_per_column):\n",
    "                row += 1\n",
    "                column = 0\n",
    "            sn.histplot(x = data[property_key], y =  data[config_key], cbar=True)\n",
    "            axs[row, column].set_xlabel(property_key),\n",
    "            axs[row, column].set_ylabel(key)\n",
    "            column+=1"
   ]
  },
  {
   "cell_type": "code",
   "execution_count": null,
   "metadata": {},
   "outputs": [],
   "source": [
    "if(USE_LABELS):\n",
    "    print(coloring)\n",
    "\n",
    "createScatterPlotForMultipleProperties(\n",
    "    [\n",
    "        #\"NumStates\",\n",
    "        #\"NumTargets\",\n",
    "        #\"NumSinks\",\n",
    "        #\"NumUnknown\",\n",
    "        \"NumActions\",\n",
    "        \"NumMaxActions\",\n",
    "        \"NumMaxTransitions\",\n",
    "        \"SmallestTransProb\",\n",
    "        \"NumProbActions\",\n",
    "        \"NumMECs\",\n",
    "        \"BiggestMEC\",\n",
    "        #\"SmallestMEC\",\n",
    "        #\"AvgMEC\",\n",
    "        #\"MedianMEC\",\n",
    "        \"NumSCCs\",\n",
    "        \"BiggestSCC\",\n",
    "        #\"AvgSCC\",\n",
    "        \"NearestTarget\",\n",
    "        #\"FurthestTarget\"\n",
    "    ]\n",
    ")"
   ]
  },
  {
   "cell_type": "code",
   "execution_count": null,
   "metadata": {},
   "outputs": [],
   "source": [
    "#createHistPlotForMultipleProperties([\"BiggestMEC\", \"NumUnknown\", \"NumMECs\", \"NumStates\", \"NumMaxActions\", \"NumProbActions\"])"
   ]
  },
  {
   "cell_type": "markdown",
   "metadata": {},
   "source": [
    "## Chi-square Tests: Are two features independent?"
   ]
  },
  {
   "cell_type": "code",
   "execution_count": null,
   "metadata": {},
   "outputs": [],
   "source": [
    "def bin_estimate(length):\n",
    "    return int(1+math.log2(length))"
   ]
  },
  {
   "cell_type": "code",
   "execution_count": null,
   "metadata": {},
   "outputs": [],
   "source": [
    "#Histograms\n",
    "#Each Bin should contain at least (recommended) 13 entries\n",
    "#https://docs.scipy.org/doc/scipy/reference/generated/scipy.stats.chisquare.html\n",
    "prop = \"NumUnknown\"\n",
    "\n",
    "x_set = [1]*37 + [2]*13 + [3]*13\n",
    "y_set = [100]*37 + [300]*13 + [500]*13\n",
    "print(x_set)\n",
    "x_bins = (1, 2, 3, 4)#bin_estimate(len(data_set))\n",
    "y_bins = (100, 300, 500, 700)\n",
    "\n",
    "x_hist_gram = np.histogram(x_set, bins=x_bins)\n",
    "y_hist_gram = np.histogram(y_set, bins=(100, 200, 300))\n",
    "n, bins, patches = plt.hist(x=x_set, bins=x_bins, alpha = 0.7)\n",
    "plt.xlabel('Computation Times')\n",
    "plt.ylabel('Frequency')\n",
    "\n",
    "plt.show()\n"
   ]
  },
  {
   "cell_type": "code",
   "execution_count": null,
   "metadata": {},
   "outputs": [],
   "source": [
    "\n",
    "H, xedges, yedges = np.histogram2d(x_set, y_set, bins=(x_bins, y_bins))\n",
    "print(H)\n",
    "# Histogram does not follow Cartesian convention (see Notes),\n",
    "\n",
    "# therefore transpose H for visualization purposes.\n",
    "\n",
    "H = H.T\n",
    "fig = plt.figure(figsize=(7, 7))\n",
    "\n",
    "ax = fig.add_subplot(131, title='imshow: square bins')\n",
    "\n",
    "plt.imshow(H, interpolation='nearest', origin='lower')"
   ]
  },
  {
   "cell_type": "code",
   "execution_count": null,
   "metadata": {},
   "outputs": [],
   "source": [
    "# create data\n",
    "x = [0]*5000#np.random.normal(size=5000)\n",
    "y = [1]*5000#np.random.normal(size=5000)\n",
    " \n",
    "# Big bins\n",
    "H, x_edges, y_edges, img = plt.hist2d(x, y, bins=(10,10), cmap=plt.cm.jet)\n",
    "plt.colorbar()\n",
    "plt.show()\n",
    "\n",
    "# Small bins\n",
    "#plt.hist2d(x, y, bins=(300, 300), cmap=plt.cm.jet)\n",
    "#plt.show()\n",
    " \n",
    "# If you do not set the same values for X and Y, the bins won't be a square!\n",
    "#plt.hist2d(x, y, bins=(300, 30), cmap=plt.cm.jet)\n",
    "#plt.show()"
   ]
  },
  {
   "cell_type": "code",
   "execution_count": null,
   "metadata": {},
   "outputs": [],
   "source": [
    "#print(H)\n",
    "ChiSq, p = stats.chisquare(np.ndarray.flatten(H))\n",
    "print(ChiSq)\n",
    "print(p)"
   ]
  },
  {
   "cell_type": "markdown",
   "metadata": {},
   "source": [
    "#### Ensure VI is not wrong"
   ]
  },
  {
   "cell_type": "code",
   "execution_count": null,
   "metadata": {},
   "outputs": [],
   "source": [
    "vi = \"VI\"\n",
    "ref = \"BVI\"\n",
    "\n",
    "for i in range(len(data[vi])):\n",
    "    "
   ]
  },
  {
   "cell_type": "code",
   "execution_count": null,
   "metadata": {},
   "outputs": [],
   "source": []
  },
  {
   "cell_type": "code",
   "execution_count": null,
   "metadata": {},
   "outputs": [],
   "source": []
  },
  {
   "cell_type": "code",
   "execution_count": null,
   "metadata": {},
   "outputs": [],
   "source": []
  },
  {
   "cell_type": "code",
   "execution_count": null,
   "metadata": {},
   "outputs": [],
   "source": []
  },
  {
   "cell_type": "code",
   "execution_count": null,
   "metadata": {},
   "outputs": [],
   "source": []
  },
  {
   "cell_type": "code",
   "execution_count": null,
   "metadata": {},
   "outputs": [],
   "source": []
  },
  {
   "cell_type": "code",
   "execution_count": null,
   "metadata": {},
   "outputs": [],
   "source": []
  },
  {
   "cell_type": "code",
   "execution_count": null,
   "metadata": {},
   "outputs": [],
   "source": []
  },
  {
   "cell_type": "code",
   "execution_count": null,
   "metadata": {},
   "outputs": [],
   "source": []
  },
  {
   "cell_type": "code",
   "execution_count": null,
   "metadata": {},
   "outputs": [],
   "source": []
  },
  {
   "cell_type": "code",
   "execution_count": null,
   "metadata": {},
   "outputs": [],
   "source": []
  },
  {
   "cell_type": "code",
   "execution_count": null,
   "metadata": {},
   "outputs": [],
   "source": []
  },
  {
   "cell_type": "code",
   "execution_count": null,
   "metadata": {},
   "outputs": [],
   "source": []
  },
  {
   "cell_type": "code",
   "execution_count": null,
   "metadata": {},
   "outputs": [],
   "source": []
  }
 ],
 "metadata": {
  "interpreter": {
   "hash": "e7370f93d1d0cde622a1f8e1c04877d8463912d04d973331ad4851f04de6915a"
  },
  "kernelspec": {
   "display_name": "Python 3",
   "language": "python",
   "name": "python3"
  },
  "language_info": {
   "codemirror_mode": {
    "name": "ipython",
    "version": 3
   },
   "file_extension": ".py",
   "mimetype": "text/x-python",
   "name": "python",
   "nbconvert_exporter": "python",
   "pygments_lexer": "ipython3",
   "version": "3.8.8"
  }
 },
 "nbformat": 4,
 "nbformat_minor": 2
}
